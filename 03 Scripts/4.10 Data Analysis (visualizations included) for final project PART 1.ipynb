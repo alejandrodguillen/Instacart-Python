{
 "cells": [
  {
   "cell_type": "markdown",
   "id": "d69a31a1",
   "metadata": {},
   "source": [
    "# 01 Importing libraries and data\n",
    "\n",
    "# 02 Data Exploration\n",
    "\n",
    "# 03 Task\n",
    "\n",
    "## 3.1 Dropping columns\n",
    "## 3.2 Creating region flag\n",
    "## 3.3 Creating an exclusion flag for low activity customers\n",
    "## 3.4 Creating age flag\n",
    "## 3.5 Creating income flag\n",
    "## 3.6 Creating bar chart by department sales\n",
    "## 3.7 Creating bar chart by regions and departments \n",
    "## 3.8 Creating pie chart of loyal customers\n",
    "## 3.9 Visualizations of number of dependants\n",
    "## 3.10 Department visualizations\n",
    "## 3.11 Region Visualizations\n",
    "## 3.12 Descriptive statistics on customer profile"
   ]
  },
  {
   "cell_type": "markdown",
   "id": "31e8f8d6",
   "metadata": {},
   "source": [
    "# 01 Importing Libraries and Data"
   ]
  },
  {
   "cell_type": "code",
   "execution_count": 1,
   "id": "ace817fd",
   "metadata": {},
   "outputs": [],
   "source": [
    "#Importing Libraries\n",
    "\n",
    "import pandas as pd\n",
    "import numpy as np\n",
    "import os\n",
    "\n",
    "import matplotlib.pyplot as plt\n",
    "import seaborn as sns\n",
    "import scipy"
   ]
  },
  {
   "cell_type": "code",
   "execution_count": 2,
   "id": "b987f537",
   "metadata": {},
   "outputs": [],
   "source": [
    "#Importing Data\n",
    "\n",
    "path = r'/Users/alejandroguillen/Documents/Instacart Basket Analysis'"
   ]
  },
  {
   "cell_type": "code",
   "execution_count": 3,
   "id": "21f5838a",
   "metadata": {},
   "outputs": [],
   "source": [
    "insta_data = pd.read_pickle(os.path.join(path,'02 Data', 'Prepared Data', 'instacart_combined.pkl'))"
   ]
  },
  {
   "cell_type": "markdown",
   "id": "178d1c84",
   "metadata": {},
   "source": [
    "# 02 Data Exploration"
   ]
  },
  {
   "cell_type": "code",
   "execution_count": 4,
   "id": "45f628ab",
   "metadata": {},
   "outputs": [
    {
     "data": {
      "text/html": [
       "<div>\n",
       "<style scoped>\n",
       "    .dataframe tbody tr th:only-of-type {\n",
       "        vertical-align: middle;\n",
       "    }\n",
       "\n",
       "    .dataframe tbody tr th {\n",
       "        vertical-align: top;\n",
       "    }\n",
       "\n",
       "    .dataframe thead th {\n",
       "        text-align: right;\n",
       "    }\n",
       "</style>\n",
       "<table border=\"1\" class=\"dataframe\">\n",
       "  <thead>\n",
       "    <tr style=\"text-align: right;\">\n",
       "      <th></th>\n",
       "      <th>order_id</th>\n",
       "      <th>user_id</th>\n",
       "      <th>order_number</th>\n",
       "      <th>orders_day_of_week</th>\n",
       "      <th>order_hour_of_day</th>\n",
       "      <th>days_since_last_order</th>\n",
       "      <th>product_id</th>\n",
       "      <th>add_to_cart_order</th>\n",
       "      <th>reordered</th>\n",
       "      <th>product_name</th>\n",
       "      <th>...</th>\n",
       "      <th>frequency_flag</th>\n",
       "      <th>first_name</th>\n",
       "      <th>last_name</th>\n",
       "      <th>gender</th>\n",
       "      <th>state</th>\n",
       "      <th>age</th>\n",
       "      <th>date_joined</th>\n",
       "      <th>n_dependants</th>\n",
       "      <th>fam_status</th>\n",
       "      <th>income</th>\n",
       "    </tr>\n",
       "  </thead>\n",
       "  <tbody>\n",
       "    <tr>\n",
       "      <th>0</th>\n",
       "      <td>2539329</td>\n",
       "      <td>1</td>\n",
       "      <td>1</td>\n",
       "      <td>2</td>\n",
       "      <td>8</td>\n",
       "      <td>NaN</td>\n",
       "      <td>196</td>\n",
       "      <td>1</td>\n",
       "      <td>0</td>\n",
       "      <td>Soda</td>\n",
       "      <td>...</td>\n",
       "      <td>Non-frequent customer</td>\n",
       "      <td>Linda</td>\n",
       "      <td>Nguyen</td>\n",
       "      <td>Female</td>\n",
       "      <td>Alabama</td>\n",
       "      <td>31</td>\n",
       "      <td>2/17/2019</td>\n",
       "      <td>3</td>\n",
       "      <td>married</td>\n",
       "      <td>40423</td>\n",
       "    </tr>\n",
       "    <tr>\n",
       "      <th>1</th>\n",
       "      <td>2398795</td>\n",
       "      <td>1</td>\n",
       "      <td>2</td>\n",
       "      <td>3</td>\n",
       "      <td>7</td>\n",
       "      <td>15.0</td>\n",
       "      <td>196</td>\n",
       "      <td>1</td>\n",
       "      <td>1</td>\n",
       "      <td>Soda</td>\n",
       "      <td>...</td>\n",
       "      <td>Non-frequent customer</td>\n",
       "      <td>Linda</td>\n",
       "      <td>Nguyen</td>\n",
       "      <td>Female</td>\n",
       "      <td>Alabama</td>\n",
       "      <td>31</td>\n",
       "      <td>2/17/2019</td>\n",
       "      <td>3</td>\n",
       "      <td>married</td>\n",
       "      <td>40423</td>\n",
       "    </tr>\n",
       "    <tr>\n",
       "      <th>2</th>\n",
       "      <td>473747</td>\n",
       "      <td>1</td>\n",
       "      <td>3</td>\n",
       "      <td>3</td>\n",
       "      <td>12</td>\n",
       "      <td>21.0</td>\n",
       "      <td>196</td>\n",
       "      <td>1</td>\n",
       "      <td>1</td>\n",
       "      <td>Soda</td>\n",
       "      <td>...</td>\n",
       "      <td>Non-frequent customer</td>\n",
       "      <td>Linda</td>\n",
       "      <td>Nguyen</td>\n",
       "      <td>Female</td>\n",
       "      <td>Alabama</td>\n",
       "      <td>31</td>\n",
       "      <td>2/17/2019</td>\n",
       "      <td>3</td>\n",
       "      <td>married</td>\n",
       "      <td>40423</td>\n",
       "    </tr>\n",
       "    <tr>\n",
       "      <th>3</th>\n",
       "      <td>2254736</td>\n",
       "      <td>1</td>\n",
       "      <td>4</td>\n",
       "      <td>4</td>\n",
       "      <td>7</td>\n",
       "      <td>29.0</td>\n",
       "      <td>196</td>\n",
       "      <td>1</td>\n",
       "      <td>1</td>\n",
       "      <td>Soda</td>\n",
       "      <td>...</td>\n",
       "      <td>Non-frequent customer</td>\n",
       "      <td>Linda</td>\n",
       "      <td>Nguyen</td>\n",
       "      <td>Female</td>\n",
       "      <td>Alabama</td>\n",
       "      <td>31</td>\n",
       "      <td>2/17/2019</td>\n",
       "      <td>3</td>\n",
       "      <td>married</td>\n",
       "      <td>40423</td>\n",
       "    </tr>\n",
       "    <tr>\n",
       "      <th>4</th>\n",
       "      <td>431534</td>\n",
       "      <td>1</td>\n",
       "      <td>5</td>\n",
       "      <td>4</td>\n",
       "      <td>15</td>\n",
       "      <td>28.0</td>\n",
       "      <td>196</td>\n",
       "      <td>1</td>\n",
       "      <td>1</td>\n",
       "      <td>Soda</td>\n",
       "      <td>...</td>\n",
       "      <td>Non-frequent customer</td>\n",
       "      <td>Linda</td>\n",
       "      <td>Nguyen</td>\n",
       "      <td>Female</td>\n",
       "      <td>Alabama</td>\n",
       "      <td>31</td>\n",
       "      <td>2/17/2019</td>\n",
       "      <td>3</td>\n",
       "      <td>married</td>\n",
       "      <td>40423</td>\n",
       "    </tr>\n",
       "  </tbody>\n",
       "</table>\n",
       "<p>5 rows × 33 columns</p>\n",
       "</div>"
      ],
      "text/plain": [
       "   order_id user_id  order_number  orders_day_of_week  order_hour_of_day  \\\n",
       "0   2539329       1             1                   2                  8   \n",
       "1   2398795       1             2                   3                  7   \n",
       "2    473747       1             3                   3                 12   \n",
       "3   2254736       1             4                   4                  7   \n",
       "4    431534       1             5                   4                 15   \n",
       "\n",
       "   days_since_last_order  product_id  add_to_cart_order  reordered  \\\n",
       "0                    NaN         196                  1          0   \n",
       "1                   15.0         196                  1          1   \n",
       "2                   21.0         196                  1          1   \n",
       "3                   29.0         196                  1          1   \n",
       "4                   28.0         196                  1          1   \n",
       "\n",
       "  product_name  ...         frequency_flag  first_name  last_name  gender  \\\n",
       "0         Soda  ...  Non-frequent customer       Linda     Nguyen  Female   \n",
       "1         Soda  ...  Non-frequent customer       Linda     Nguyen  Female   \n",
       "2         Soda  ...  Non-frequent customer       Linda     Nguyen  Female   \n",
       "3         Soda  ...  Non-frequent customer       Linda     Nguyen  Female   \n",
       "4         Soda  ...  Non-frequent customer       Linda     Nguyen  Female   \n",
       "\n",
       "     state age date_joined n_dependants  fam_status income  \n",
       "0  Alabama  31   2/17/2019            3     married  40423  \n",
       "1  Alabama  31   2/17/2019            3     married  40423  \n",
       "2  Alabama  31   2/17/2019            3     married  40423  \n",
       "3  Alabama  31   2/17/2019            3     married  40423  \n",
       "4  Alabama  31   2/17/2019            3     married  40423  \n",
       "\n",
       "[5 rows x 33 columns]"
      ]
     },
     "execution_count": 4,
     "metadata": {},
     "output_type": "execute_result"
    }
   ],
   "source": [
    "insta_data.head()"
   ]
  },
  {
   "cell_type": "code",
   "execution_count": 5,
   "id": "11011093",
   "metadata": {},
   "outputs": [
    {
     "name": "stdout",
     "output_type": "stream",
     "text": [
      "<class 'pandas.core.frame.DataFrame'>\n",
      "Int64Index: 32404859 entries, 0 to 32404858\n",
      "Data columns (total 33 columns):\n",
      " #   Column                 Dtype   \n",
      "---  ------                 -----   \n",
      " 0   order_id               int32   \n",
      " 1   user_id                object  \n",
      " 2   order_number           int8    \n",
      " 3   orders_day_of_week     int8    \n",
      " 4   order_hour_of_day      int8    \n",
      " 5   days_since_last_order  float16 \n",
      " 6   product_id             int32   \n",
      " 7   add_to_cart_order      int32   \n",
      " 8   reordered              int8    \n",
      " 9   product_name           object  \n",
      " 10  aisle_id               int8    \n",
      " 11  department_id          int8    \n",
      " 12  prices                 float16 \n",
      " 13  _merge                 category\n",
      " 14  price_range_loc        object  \n",
      " 15  busiest_day            object  \n",
      " 16  busiest_days           object  \n",
      " 17  busiest_period_of_day  object  \n",
      " 18  max_order              int8    \n",
      " 19  loyalty_flag           object  \n",
      " 20  mean_price             float16 \n",
      " 21  spending_flag          object  \n",
      " 22  median_on_days         float16 \n",
      " 23  frequency_flag         object  \n",
      " 24  first_name             object  \n",
      " 25  last_name              object  \n",
      " 26  gender                 object  \n",
      " 27  state                  object  \n",
      " 28  age                    int8    \n",
      " 29  date_joined            object  \n",
      " 30  n_dependants           int8    \n",
      " 31  fam_status             object  \n",
      " 32  income                 int32   \n",
      "dtypes: category(1), float16(4), int32(4), int8(9), object(15)\n",
      "memory usage: 4.9+ GB\n"
     ]
    }
   ],
   "source": [
    "insta_data.info()"
   ]
  },
  {
   "cell_type": "code",
   "execution_count": 6,
   "id": "f5b7e094",
   "metadata": {},
   "outputs": [],
   "source": [
    "#Changing order of columns\n",
    "new_order = ['order_id','user_id','first_name','last_name','gender','age','state','order_number','date_joined','n_dependants','fam_status','income','orders_day_of_week','order_hour_of_day','days_since_last_order','product_id','add_to_cart_order','reordered','product_name','aisle_id','department_id','prices','_merge','price_range_loc','busiest_day','busiest_days','busiest_period_of_day','max_order','loyalty_flag','mean_price','spending_flag','median_on_days','frequency_flag']\n"
   ]
  },
  {
   "cell_type": "code",
   "execution_count": 7,
   "id": "183c3f16",
   "metadata": {},
   "outputs": [],
   "source": [
    "#Reindexing dataframe\n",
    "insta_data = insta_data[new_order]"
   ]
  },
  {
   "cell_type": "code",
   "execution_count": 8,
   "id": "7dd4fee5",
   "metadata": {},
   "outputs": [
    {
     "data": {
      "text/html": [
       "<div>\n",
       "<style scoped>\n",
       "    .dataframe tbody tr th:only-of-type {\n",
       "        vertical-align: middle;\n",
       "    }\n",
       "\n",
       "    .dataframe tbody tr th {\n",
       "        vertical-align: top;\n",
       "    }\n",
       "\n",
       "    .dataframe thead th {\n",
       "        text-align: right;\n",
       "    }\n",
       "</style>\n",
       "<table border=\"1\" class=\"dataframe\">\n",
       "  <thead>\n",
       "    <tr style=\"text-align: right;\">\n",
       "      <th></th>\n",
       "      <th>order_id</th>\n",
       "      <th>user_id</th>\n",
       "      <th>first_name</th>\n",
       "      <th>last_name</th>\n",
       "      <th>gender</th>\n",
       "      <th>age</th>\n",
       "      <th>state</th>\n",
       "      <th>order_number</th>\n",
       "      <th>date_joined</th>\n",
       "      <th>n_dependants</th>\n",
       "      <th>...</th>\n",
       "      <th>price_range_loc</th>\n",
       "      <th>busiest_day</th>\n",
       "      <th>busiest_days</th>\n",
       "      <th>busiest_period_of_day</th>\n",
       "      <th>max_order</th>\n",
       "      <th>loyalty_flag</th>\n",
       "      <th>mean_price</th>\n",
       "      <th>spending_flag</th>\n",
       "      <th>median_on_days</th>\n",
       "      <th>frequency_flag</th>\n",
       "    </tr>\n",
       "  </thead>\n",
       "  <tbody>\n",
       "    <tr>\n",
       "      <th>0</th>\n",
       "      <td>2539329</td>\n",
       "      <td>1</td>\n",
       "      <td>Linda</td>\n",
       "      <td>Nguyen</td>\n",
       "      <td>Female</td>\n",
       "      <td>31</td>\n",
       "      <td>Alabama</td>\n",
       "      <td>1</td>\n",
       "      <td>2/17/2019</td>\n",
       "      <td>3</td>\n",
       "      <td>...</td>\n",
       "      <td>Mid-range product</td>\n",
       "      <td>Regularly busy</td>\n",
       "      <td>Regular days</td>\n",
       "      <td>Average orders</td>\n",
       "      <td>10</td>\n",
       "      <td>New customer</td>\n",
       "      <td>6.367188</td>\n",
       "      <td>Low spender</td>\n",
       "      <td>20.5</td>\n",
       "      <td>Non-frequent customer</td>\n",
       "    </tr>\n",
       "    <tr>\n",
       "      <th>1</th>\n",
       "      <td>2398795</td>\n",
       "      <td>1</td>\n",
       "      <td>Linda</td>\n",
       "      <td>Nguyen</td>\n",
       "      <td>Female</td>\n",
       "      <td>31</td>\n",
       "      <td>Alabama</td>\n",
       "      <td>2</td>\n",
       "      <td>2/17/2019</td>\n",
       "      <td>3</td>\n",
       "      <td>...</td>\n",
       "      <td>Mid-range product</td>\n",
       "      <td>Regularly busy</td>\n",
       "      <td>Slowest days</td>\n",
       "      <td>Average orders</td>\n",
       "      <td>10</td>\n",
       "      <td>New customer</td>\n",
       "      <td>6.367188</td>\n",
       "      <td>Low spender</td>\n",
       "      <td>20.5</td>\n",
       "      <td>Non-frequent customer</td>\n",
       "    </tr>\n",
       "    <tr>\n",
       "      <th>2</th>\n",
       "      <td>473747</td>\n",
       "      <td>1</td>\n",
       "      <td>Linda</td>\n",
       "      <td>Nguyen</td>\n",
       "      <td>Female</td>\n",
       "      <td>31</td>\n",
       "      <td>Alabama</td>\n",
       "      <td>3</td>\n",
       "      <td>2/17/2019</td>\n",
       "      <td>3</td>\n",
       "      <td>...</td>\n",
       "      <td>Mid-range product</td>\n",
       "      <td>Regularly busy</td>\n",
       "      <td>Slowest days</td>\n",
       "      <td>Most orders</td>\n",
       "      <td>10</td>\n",
       "      <td>New customer</td>\n",
       "      <td>6.367188</td>\n",
       "      <td>Low spender</td>\n",
       "      <td>20.5</td>\n",
       "      <td>Non-frequent customer</td>\n",
       "    </tr>\n",
       "    <tr>\n",
       "      <th>3</th>\n",
       "      <td>2254736</td>\n",
       "      <td>1</td>\n",
       "      <td>Linda</td>\n",
       "      <td>Nguyen</td>\n",
       "      <td>Female</td>\n",
       "      <td>31</td>\n",
       "      <td>Alabama</td>\n",
       "      <td>4</td>\n",
       "      <td>2/17/2019</td>\n",
       "      <td>3</td>\n",
       "      <td>...</td>\n",
       "      <td>Mid-range product</td>\n",
       "      <td>Least busy</td>\n",
       "      <td>Slowest days</td>\n",
       "      <td>Average orders</td>\n",
       "      <td>10</td>\n",
       "      <td>New customer</td>\n",
       "      <td>6.367188</td>\n",
       "      <td>Low spender</td>\n",
       "      <td>20.5</td>\n",
       "      <td>Non-frequent customer</td>\n",
       "    </tr>\n",
       "    <tr>\n",
       "      <th>4</th>\n",
       "      <td>431534</td>\n",
       "      <td>1</td>\n",
       "      <td>Linda</td>\n",
       "      <td>Nguyen</td>\n",
       "      <td>Female</td>\n",
       "      <td>31</td>\n",
       "      <td>Alabama</td>\n",
       "      <td>5</td>\n",
       "      <td>2/17/2019</td>\n",
       "      <td>3</td>\n",
       "      <td>...</td>\n",
       "      <td>Mid-range product</td>\n",
       "      <td>Least busy</td>\n",
       "      <td>Slowest days</td>\n",
       "      <td>Most orders</td>\n",
       "      <td>10</td>\n",
       "      <td>New customer</td>\n",
       "      <td>6.367188</td>\n",
       "      <td>Low spender</td>\n",
       "      <td>20.5</td>\n",
       "      <td>Non-frequent customer</td>\n",
       "    </tr>\n",
       "  </tbody>\n",
       "</table>\n",
       "<p>5 rows × 33 columns</p>\n",
       "</div>"
      ],
      "text/plain": [
       "   order_id user_id first_name last_name  gender  age    state  order_number  \\\n",
       "0   2539329       1      Linda    Nguyen  Female   31  Alabama             1   \n",
       "1   2398795       1      Linda    Nguyen  Female   31  Alabama             2   \n",
       "2    473747       1      Linda    Nguyen  Female   31  Alabama             3   \n",
       "3   2254736       1      Linda    Nguyen  Female   31  Alabama             4   \n",
       "4    431534       1      Linda    Nguyen  Female   31  Alabama             5   \n",
       "\n",
       "  date_joined  n_dependants  ...    price_range_loc     busiest_day  \\\n",
       "0   2/17/2019             3  ...  Mid-range product  Regularly busy   \n",
       "1   2/17/2019             3  ...  Mid-range product  Regularly busy   \n",
       "2   2/17/2019             3  ...  Mid-range product  Regularly busy   \n",
       "3   2/17/2019             3  ...  Mid-range product      Least busy   \n",
       "4   2/17/2019             3  ...  Mid-range product      Least busy   \n",
       "\n",
       "   busiest_days  busiest_period_of_day  max_order  loyalty_flag  mean_price  \\\n",
       "0  Regular days         Average orders         10  New customer    6.367188   \n",
       "1  Slowest days         Average orders         10  New customer    6.367188   \n",
       "2  Slowest days            Most orders         10  New customer    6.367188   \n",
       "3  Slowest days         Average orders         10  New customer    6.367188   \n",
       "4  Slowest days            Most orders         10  New customer    6.367188   \n",
       "\n",
       "   spending_flag median_on_days         frequency_flag  \n",
       "0    Low spender           20.5  Non-frequent customer  \n",
       "1    Low spender           20.5  Non-frequent customer  \n",
       "2    Low spender           20.5  Non-frequent customer  \n",
       "3    Low spender           20.5  Non-frequent customer  \n",
       "4    Low spender           20.5  Non-frequent customer  \n",
       "\n",
       "[5 rows x 33 columns]"
      ]
     },
     "execution_count": 8,
     "metadata": {},
     "output_type": "execute_result"
    }
   ],
   "source": [
    "#Checkin reindexing output\n",
    "insta_data.head()"
   ]
  },
  {
   "cell_type": "markdown",
   "id": "2296d478",
   "metadata": {},
   "source": [
    "# 03 Task (Part 1)"
   ]
  },
  {
   "cell_type": "markdown",
   "id": "f3cb7706",
   "metadata": {},
   "source": [
    "## 3.1 Dropping columns"
   ]
  },
  {
   "cell_type": "code",
   "execution_count": 9,
   "id": "efac9b96",
   "metadata": {},
   "outputs": [],
   "source": [
    "#Dropping first and last name columns due to PII\n",
    "insta_data = insta_data.drop (columns = ['first_name'])\n",
    "insta_data = insta_data.drop (columns = ['last_name'])"
   ]
  },
  {
   "cell_type": "code",
   "execution_count": 10,
   "id": "d086a01f",
   "metadata": {},
   "outputs": [
    {
     "data": {
      "text/html": [
       "<div>\n",
       "<style scoped>\n",
       "    .dataframe tbody tr th:only-of-type {\n",
       "        vertical-align: middle;\n",
       "    }\n",
       "\n",
       "    .dataframe tbody tr th {\n",
       "        vertical-align: top;\n",
       "    }\n",
       "\n",
       "    .dataframe thead th {\n",
       "        text-align: right;\n",
       "    }\n",
       "</style>\n",
       "<table border=\"1\" class=\"dataframe\">\n",
       "  <thead>\n",
       "    <tr style=\"text-align: right;\">\n",
       "      <th></th>\n",
       "      <th>order_id</th>\n",
       "      <th>user_id</th>\n",
       "      <th>gender</th>\n",
       "      <th>age</th>\n",
       "      <th>state</th>\n",
       "      <th>order_number</th>\n",
       "      <th>date_joined</th>\n",
       "      <th>n_dependants</th>\n",
       "      <th>fam_status</th>\n",
       "      <th>income</th>\n",
       "      <th>...</th>\n",
       "      <th>price_range_loc</th>\n",
       "      <th>busiest_day</th>\n",
       "      <th>busiest_days</th>\n",
       "      <th>busiest_period_of_day</th>\n",
       "      <th>max_order</th>\n",
       "      <th>loyalty_flag</th>\n",
       "      <th>mean_price</th>\n",
       "      <th>spending_flag</th>\n",
       "      <th>median_on_days</th>\n",
       "      <th>frequency_flag</th>\n",
       "    </tr>\n",
       "  </thead>\n",
       "  <tbody>\n",
       "    <tr>\n",
       "      <th>0</th>\n",
       "      <td>2539329</td>\n",
       "      <td>1</td>\n",
       "      <td>Female</td>\n",
       "      <td>31</td>\n",
       "      <td>Alabama</td>\n",
       "      <td>1</td>\n",
       "      <td>2/17/2019</td>\n",
       "      <td>3</td>\n",
       "      <td>married</td>\n",
       "      <td>40423</td>\n",
       "      <td>...</td>\n",
       "      <td>Mid-range product</td>\n",
       "      <td>Regularly busy</td>\n",
       "      <td>Regular days</td>\n",
       "      <td>Average orders</td>\n",
       "      <td>10</td>\n",
       "      <td>New customer</td>\n",
       "      <td>6.367188</td>\n",
       "      <td>Low spender</td>\n",
       "      <td>20.5</td>\n",
       "      <td>Non-frequent customer</td>\n",
       "    </tr>\n",
       "    <tr>\n",
       "      <th>1</th>\n",
       "      <td>2398795</td>\n",
       "      <td>1</td>\n",
       "      <td>Female</td>\n",
       "      <td>31</td>\n",
       "      <td>Alabama</td>\n",
       "      <td>2</td>\n",
       "      <td>2/17/2019</td>\n",
       "      <td>3</td>\n",
       "      <td>married</td>\n",
       "      <td>40423</td>\n",
       "      <td>...</td>\n",
       "      <td>Mid-range product</td>\n",
       "      <td>Regularly busy</td>\n",
       "      <td>Slowest days</td>\n",
       "      <td>Average orders</td>\n",
       "      <td>10</td>\n",
       "      <td>New customer</td>\n",
       "      <td>6.367188</td>\n",
       "      <td>Low spender</td>\n",
       "      <td>20.5</td>\n",
       "      <td>Non-frequent customer</td>\n",
       "    </tr>\n",
       "    <tr>\n",
       "      <th>2</th>\n",
       "      <td>473747</td>\n",
       "      <td>1</td>\n",
       "      <td>Female</td>\n",
       "      <td>31</td>\n",
       "      <td>Alabama</td>\n",
       "      <td>3</td>\n",
       "      <td>2/17/2019</td>\n",
       "      <td>3</td>\n",
       "      <td>married</td>\n",
       "      <td>40423</td>\n",
       "      <td>...</td>\n",
       "      <td>Mid-range product</td>\n",
       "      <td>Regularly busy</td>\n",
       "      <td>Slowest days</td>\n",
       "      <td>Most orders</td>\n",
       "      <td>10</td>\n",
       "      <td>New customer</td>\n",
       "      <td>6.367188</td>\n",
       "      <td>Low spender</td>\n",
       "      <td>20.5</td>\n",
       "      <td>Non-frequent customer</td>\n",
       "    </tr>\n",
       "    <tr>\n",
       "      <th>3</th>\n",
       "      <td>2254736</td>\n",
       "      <td>1</td>\n",
       "      <td>Female</td>\n",
       "      <td>31</td>\n",
       "      <td>Alabama</td>\n",
       "      <td>4</td>\n",
       "      <td>2/17/2019</td>\n",
       "      <td>3</td>\n",
       "      <td>married</td>\n",
       "      <td>40423</td>\n",
       "      <td>...</td>\n",
       "      <td>Mid-range product</td>\n",
       "      <td>Least busy</td>\n",
       "      <td>Slowest days</td>\n",
       "      <td>Average orders</td>\n",
       "      <td>10</td>\n",
       "      <td>New customer</td>\n",
       "      <td>6.367188</td>\n",
       "      <td>Low spender</td>\n",
       "      <td>20.5</td>\n",
       "      <td>Non-frequent customer</td>\n",
       "    </tr>\n",
       "    <tr>\n",
       "      <th>4</th>\n",
       "      <td>431534</td>\n",
       "      <td>1</td>\n",
       "      <td>Female</td>\n",
       "      <td>31</td>\n",
       "      <td>Alabama</td>\n",
       "      <td>5</td>\n",
       "      <td>2/17/2019</td>\n",
       "      <td>3</td>\n",
       "      <td>married</td>\n",
       "      <td>40423</td>\n",
       "      <td>...</td>\n",
       "      <td>Mid-range product</td>\n",
       "      <td>Least busy</td>\n",
       "      <td>Slowest days</td>\n",
       "      <td>Most orders</td>\n",
       "      <td>10</td>\n",
       "      <td>New customer</td>\n",
       "      <td>6.367188</td>\n",
       "      <td>Low spender</td>\n",
       "      <td>20.5</td>\n",
       "      <td>Non-frequent customer</td>\n",
       "    </tr>\n",
       "  </tbody>\n",
       "</table>\n",
       "<p>5 rows × 31 columns</p>\n",
       "</div>"
      ],
      "text/plain": [
       "   order_id user_id  gender  age    state  order_number date_joined  \\\n",
       "0   2539329       1  Female   31  Alabama             1   2/17/2019   \n",
       "1   2398795       1  Female   31  Alabama             2   2/17/2019   \n",
       "2    473747       1  Female   31  Alabama             3   2/17/2019   \n",
       "3   2254736       1  Female   31  Alabama             4   2/17/2019   \n",
       "4    431534       1  Female   31  Alabama             5   2/17/2019   \n",
       "\n",
       "   n_dependants fam_status  income  ...    price_range_loc     busiest_day  \\\n",
       "0             3    married   40423  ...  Mid-range product  Regularly busy   \n",
       "1             3    married   40423  ...  Mid-range product  Regularly busy   \n",
       "2             3    married   40423  ...  Mid-range product  Regularly busy   \n",
       "3             3    married   40423  ...  Mid-range product      Least busy   \n",
       "4             3    married   40423  ...  Mid-range product      Least busy   \n",
       "\n",
       "   busiest_days  busiest_period_of_day  max_order  loyalty_flag mean_price  \\\n",
       "0  Regular days         Average orders         10  New customer   6.367188   \n",
       "1  Slowest days         Average orders         10  New customer   6.367188   \n",
       "2  Slowest days            Most orders         10  New customer   6.367188   \n",
       "3  Slowest days         Average orders         10  New customer   6.367188   \n",
       "4  Slowest days            Most orders         10  New customer   6.367188   \n",
       "\n",
       "   spending_flag  median_on_days         frequency_flag  \n",
       "0    Low spender            20.5  Non-frequent customer  \n",
       "1    Low spender            20.5  Non-frequent customer  \n",
       "2    Low spender            20.5  Non-frequent customer  \n",
       "3    Low spender            20.5  Non-frequent customer  \n",
       "4    Low spender            20.5  Non-frequent customer  \n",
       "\n",
       "[5 rows x 31 columns]"
      ]
     },
     "execution_count": 10,
     "metadata": {},
     "output_type": "execute_result"
    }
   ],
   "source": [
    "#Check output\n",
    "\n",
    "insta_data.head()"
   ]
  },
  {
   "cell_type": "markdown",
   "id": "d2fc4ecf",
   "metadata": {},
   "source": [
    "## 3.2 Creating region flag"
   ]
  },
  {
   "cell_type": "code",
   "execution_count": 11,
   "id": "3c2ce537",
   "metadata": {},
   "outputs": [],
   "source": [
    "#Making list of northeastern states\n",
    "\n",
    "states_ne = ['Maine','New Hampshire','Vermont','Massachusetts','Rhode Island','Connecticut','New York','Pennsylvania','New Jersey']"
   ]
  },
  {
   "cell_type": "code",
   "execution_count": 12,
   "id": "33369a08",
   "metadata": {},
   "outputs": [],
   "source": [
    "#Making list of midwestern states\n",
    "\n",
    "states_mw = ['Wisconsin','Michigan','Illinois','Indiana','Ohio','North Dakota','South Dakota','Nebraska','Kansas','Minnesota','Iowa','Missouri']\n"
   ]
  },
  {
   "cell_type": "code",
   "execution_count": 13,
   "id": "5c936687",
   "metadata": {},
   "outputs": [],
   "source": [
    "#Making list of southern states\n",
    "\n",
    "states_s = ['Delaware','Maryland','District of Columbia','Virginia','West Virginia','North Carolina','South Carolina','Georgia','Florida','Kentucky','Tennessee','Mississippi','Alabama','Oklahoma','Texas','Arkansas','Louisiana']"
   ]
  },
  {
   "cell_type": "code",
   "execution_count": 14,
   "id": "9c34fe4f",
   "metadata": {},
   "outputs": [],
   "source": [
    "#Making list of western states\n",
    "\n",
    "states_w = ['Idaho','Montana','Wyoming','Nevada','Utah','Colorado','Arizona','New Mexico','Alaska','Washington','Oregon','California','Hawaii']"
   ]
  },
  {
   "cell_type": "code",
   "execution_count": 15,
   "id": "6677e691",
   "metadata": {},
   "outputs": [
    {
     "data": {
      "text/plain": [
       "['Maine',\n",
       " 'New Hampshire',\n",
       " 'Vermont',\n",
       " 'Massachusetts',\n",
       " 'Rhode Island',\n",
       " 'Connecticut',\n",
       " 'New York',\n",
       " 'Pennsylvania',\n",
       " 'New Jersey']"
      ]
     },
     "execution_count": 15,
     "metadata": {},
     "output_type": "execute_result"
    }
   ],
   "source": [
    "#Checking output\n",
    "\n",
    "states_ne"
   ]
  },
  {
   "cell_type": "code",
   "execution_count": 16,
   "id": "c7eaf2c8",
   "metadata": {},
   "outputs": [],
   "source": [
    "#Creating region column using loc function\n",
    "\n",
    "insta_data.loc[insta_data['state'].isin(states_ne), 'region'] = 'Northeast'"
   ]
  },
  {
   "cell_type": "code",
   "execution_count": 17,
   "id": "99854860",
   "metadata": {},
   "outputs": [],
   "source": [
    "insta_data.loc[insta_data['state'].isin(states_mw), 'region'] = 'Midwest'"
   ]
  },
  {
   "cell_type": "code",
   "execution_count": 18,
   "id": "4c855fc5",
   "metadata": {},
   "outputs": [],
   "source": [
    "insta_data.loc[insta_data['state'].isin(states_s), 'region'] = 'South'"
   ]
  },
  {
   "cell_type": "code",
   "execution_count": 19,
   "id": "40954b7f",
   "metadata": {},
   "outputs": [],
   "source": [
    "insta_data.loc[insta_data['state'].isin(states_w), 'region'] = 'West'"
   ]
  },
  {
   "cell_type": "code",
   "execution_count": 20,
   "id": "7c2e8ead",
   "metadata": {},
   "outputs": [
    {
     "data": {
      "text/html": [
       "<div>\n",
       "<style scoped>\n",
       "    .dataframe tbody tr th:only-of-type {\n",
       "        vertical-align: middle;\n",
       "    }\n",
       "\n",
       "    .dataframe tbody tr th {\n",
       "        vertical-align: top;\n",
       "    }\n",
       "\n",
       "    .dataframe thead th {\n",
       "        text-align: right;\n",
       "    }\n",
       "</style>\n",
       "<table border=\"1\" class=\"dataframe\">\n",
       "  <thead>\n",
       "    <tr style=\"text-align: right;\">\n",
       "      <th></th>\n",
       "      <th>order_id</th>\n",
       "      <th>user_id</th>\n",
       "      <th>gender</th>\n",
       "      <th>age</th>\n",
       "      <th>state</th>\n",
       "      <th>order_number</th>\n",
       "      <th>date_joined</th>\n",
       "      <th>n_dependants</th>\n",
       "      <th>fam_status</th>\n",
       "      <th>income</th>\n",
       "      <th>...</th>\n",
       "      <th>busiest_day</th>\n",
       "      <th>busiest_days</th>\n",
       "      <th>busiest_period_of_day</th>\n",
       "      <th>max_order</th>\n",
       "      <th>loyalty_flag</th>\n",
       "      <th>mean_price</th>\n",
       "      <th>spending_flag</th>\n",
       "      <th>median_on_days</th>\n",
       "      <th>frequency_flag</th>\n",
       "      <th>region</th>\n",
       "    </tr>\n",
       "  </thead>\n",
       "  <tbody>\n",
       "    <tr>\n",
       "      <th>0</th>\n",
       "      <td>2539329</td>\n",
       "      <td>1</td>\n",
       "      <td>Female</td>\n",
       "      <td>31</td>\n",
       "      <td>Alabama</td>\n",
       "      <td>1</td>\n",
       "      <td>2/17/2019</td>\n",
       "      <td>3</td>\n",
       "      <td>married</td>\n",
       "      <td>40423</td>\n",
       "      <td>...</td>\n",
       "      <td>Regularly busy</td>\n",
       "      <td>Regular days</td>\n",
       "      <td>Average orders</td>\n",
       "      <td>10</td>\n",
       "      <td>New customer</td>\n",
       "      <td>6.367188</td>\n",
       "      <td>Low spender</td>\n",
       "      <td>20.5</td>\n",
       "      <td>Non-frequent customer</td>\n",
       "      <td>South</td>\n",
       "    </tr>\n",
       "    <tr>\n",
       "      <th>1</th>\n",
       "      <td>2398795</td>\n",
       "      <td>1</td>\n",
       "      <td>Female</td>\n",
       "      <td>31</td>\n",
       "      <td>Alabama</td>\n",
       "      <td>2</td>\n",
       "      <td>2/17/2019</td>\n",
       "      <td>3</td>\n",
       "      <td>married</td>\n",
       "      <td>40423</td>\n",
       "      <td>...</td>\n",
       "      <td>Regularly busy</td>\n",
       "      <td>Slowest days</td>\n",
       "      <td>Average orders</td>\n",
       "      <td>10</td>\n",
       "      <td>New customer</td>\n",
       "      <td>6.367188</td>\n",
       "      <td>Low spender</td>\n",
       "      <td>20.5</td>\n",
       "      <td>Non-frequent customer</td>\n",
       "      <td>South</td>\n",
       "    </tr>\n",
       "    <tr>\n",
       "      <th>2</th>\n",
       "      <td>473747</td>\n",
       "      <td>1</td>\n",
       "      <td>Female</td>\n",
       "      <td>31</td>\n",
       "      <td>Alabama</td>\n",
       "      <td>3</td>\n",
       "      <td>2/17/2019</td>\n",
       "      <td>3</td>\n",
       "      <td>married</td>\n",
       "      <td>40423</td>\n",
       "      <td>...</td>\n",
       "      <td>Regularly busy</td>\n",
       "      <td>Slowest days</td>\n",
       "      <td>Most orders</td>\n",
       "      <td>10</td>\n",
       "      <td>New customer</td>\n",
       "      <td>6.367188</td>\n",
       "      <td>Low spender</td>\n",
       "      <td>20.5</td>\n",
       "      <td>Non-frequent customer</td>\n",
       "      <td>South</td>\n",
       "    </tr>\n",
       "    <tr>\n",
       "      <th>3</th>\n",
       "      <td>2254736</td>\n",
       "      <td>1</td>\n",
       "      <td>Female</td>\n",
       "      <td>31</td>\n",
       "      <td>Alabama</td>\n",
       "      <td>4</td>\n",
       "      <td>2/17/2019</td>\n",
       "      <td>3</td>\n",
       "      <td>married</td>\n",
       "      <td>40423</td>\n",
       "      <td>...</td>\n",
       "      <td>Least busy</td>\n",
       "      <td>Slowest days</td>\n",
       "      <td>Average orders</td>\n",
       "      <td>10</td>\n",
       "      <td>New customer</td>\n",
       "      <td>6.367188</td>\n",
       "      <td>Low spender</td>\n",
       "      <td>20.5</td>\n",
       "      <td>Non-frequent customer</td>\n",
       "      <td>South</td>\n",
       "    </tr>\n",
       "    <tr>\n",
       "      <th>4</th>\n",
       "      <td>431534</td>\n",
       "      <td>1</td>\n",
       "      <td>Female</td>\n",
       "      <td>31</td>\n",
       "      <td>Alabama</td>\n",
       "      <td>5</td>\n",
       "      <td>2/17/2019</td>\n",
       "      <td>3</td>\n",
       "      <td>married</td>\n",
       "      <td>40423</td>\n",
       "      <td>...</td>\n",
       "      <td>Least busy</td>\n",
       "      <td>Slowest days</td>\n",
       "      <td>Most orders</td>\n",
       "      <td>10</td>\n",
       "      <td>New customer</td>\n",
       "      <td>6.367188</td>\n",
       "      <td>Low spender</td>\n",
       "      <td>20.5</td>\n",
       "      <td>Non-frequent customer</td>\n",
       "      <td>South</td>\n",
       "    </tr>\n",
       "  </tbody>\n",
       "</table>\n",
       "<p>5 rows × 32 columns</p>\n",
       "</div>"
      ],
      "text/plain": [
       "   order_id user_id  gender  age    state  order_number date_joined  \\\n",
       "0   2539329       1  Female   31  Alabama             1   2/17/2019   \n",
       "1   2398795       1  Female   31  Alabama             2   2/17/2019   \n",
       "2    473747       1  Female   31  Alabama             3   2/17/2019   \n",
       "3   2254736       1  Female   31  Alabama             4   2/17/2019   \n",
       "4    431534       1  Female   31  Alabama             5   2/17/2019   \n",
       "\n",
       "   n_dependants fam_status  income  ...     busiest_day  busiest_days  \\\n",
       "0             3    married   40423  ...  Regularly busy  Regular days   \n",
       "1             3    married   40423  ...  Regularly busy  Slowest days   \n",
       "2             3    married   40423  ...  Regularly busy  Slowest days   \n",
       "3             3    married   40423  ...      Least busy  Slowest days   \n",
       "4             3    married   40423  ...      Least busy  Slowest days   \n",
       "\n",
       "   busiest_period_of_day  max_order  loyalty_flag  mean_price spending_flag  \\\n",
       "0         Average orders         10  New customer    6.367188   Low spender   \n",
       "1         Average orders         10  New customer    6.367188   Low spender   \n",
       "2            Most orders         10  New customer    6.367188   Low spender   \n",
       "3         Average orders         10  New customer    6.367188   Low spender   \n",
       "4            Most orders         10  New customer    6.367188   Low spender   \n",
       "\n",
       "   median_on_days         frequency_flag  region  \n",
       "0            20.5  Non-frequent customer   South  \n",
       "1            20.5  Non-frequent customer   South  \n",
       "2            20.5  Non-frequent customer   South  \n",
       "3            20.5  Non-frequent customer   South  \n",
       "4            20.5  Non-frequent customer   South  \n",
       "\n",
       "[5 rows x 32 columns]"
      ]
     },
     "execution_count": 20,
     "metadata": {},
     "output_type": "execute_result"
    }
   ],
   "source": [
    "#Checking output \n",
    "\n",
    "insta_data.head()"
   ]
  },
  {
   "cell_type": "code",
   "execution_count": 21,
   "id": "3914bd81",
   "metadata": {},
   "outputs": [],
   "source": [
    "#Changing order of columns\n",
    "new_order_1 = ['order_id','user_id','gender','age','state','region','order_number','date_joined','n_dependants','fam_status','income','orders_day_of_week','order_hour_of_day','days_since_last_order','product_id','add_to_cart_order','reordered','product_name','aisle_id','department_id','prices','_merge','price_range_loc','busiest_day','busiest_days','busiest_period_of_day','max_order','loyalty_flag','mean_price','spending_flag','median_on_days','frequency_flag']"
   ]
  },
  {
   "cell_type": "code",
   "execution_count": 22,
   "id": "89240059",
   "metadata": {},
   "outputs": [],
   "source": [
    "#Reindexing dataframe\n",
    "insta_data = insta_data[new_order_1]"
   ]
  },
  {
   "cell_type": "code",
   "execution_count": 23,
   "id": "47323961",
   "metadata": {},
   "outputs": [
    {
     "data": {
      "text/html": [
       "<div>\n",
       "<style scoped>\n",
       "    .dataframe tbody tr th:only-of-type {\n",
       "        vertical-align: middle;\n",
       "    }\n",
       "\n",
       "    .dataframe tbody tr th {\n",
       "        vertical-align: top;\n",
       "    }\n",
       "\n",
       "    .dataframe thead th {\n",
       "        text-align: right;\n",
       "    }\n",
       "</style>\n",
       "<table border=\"1\" class=\"dataframe\">\n",
       "  <thead>\n",
       "    <tr style=\"text-align: right;\">\n",
       "      <th></th>\n",
       "      <th>order_id</th>\n",
       "      <th>user_id</th>\n",
       "      <th>gender</th>\n",
       "      <th>age</th>\n",
       "      <th>state</th>\n",
       "      <th>region</th>\n",
       "      <th>order_number</th>\n",
       "      <th>date_joined</th>\n",
       "      <th>n_dependants</th>\n",
       "      <th>fam_status</th>\n",
       "      <th>...</th>\n",
       "      <th>price_range_loc</th>\n",
       "      <th>busiest_day</th>\n",
       "      <th>busiest_days</th>\n",
       "      <th>busiest_period_of_day</th>\n",
       "      <th>max_order</th>\n",
       "      <th>loyalty_flag</th>\n",
       "      <th>mean_price</th>\n",
       "      <th>spending_flag</th>\n",
       "      <th>median_on_days</th>\n",
       "      <th>frequency_flag</th>\n",
       "    </tr>\n",
       "  </thead>\n",
       "  <tbody>\n",
       "    <tr>\n",
       "      <th>0</th>\n",
       "      <td>2539329</td>\n",
       "      <td>1</td>\n",
       "      <td>Female</td>\n",
       "      <td>31</td>\n",
       "      <td>Alabama</td>\n",
       "      <td>South</td>\n",
       "      <td>1</td>\n",
       "      <td>2/17/2019</td>\n",
       "      <td>3</td>\n",
       "      <td>married</td>\n",
       "      <td>...</td>\n",
       "      <td>Mid-range product</td>\n",
       "      <td>Regularly busy</td>\n",
       "      <td>Regular days</td>\n",
       "      <td>Average orders</td>\n",
       "      <td>10</td>\n",
       "      <td>New customer</td>\n",
       "      <td>6.367188</td>\n",
       "      <td>Low spender</td>\n",
       "      <td>20.5</td>\n",
       "      <td>Non-frequent customer</td>\n",
       "    </tr>\n",
       "    <tr>\n",
       "      <th>1</th>\n",
       "      <td>2398795</td>\n",
       "      <td>1</td>\n",
       "      <td>Female</td>\n",
       "      <td>31</td>\n",
       "      <td>Alabama</td>\n",
       "      <td>South</td>\n",
       "      <td>2</td>\n",
       "      <td>2/17/2019</td>\n",
       "      <td>3</td>\n",
       "      <td>married</td>\n",
       "      <td>...</td>\n",
       "      <td>Mid-range product</td>\n",
       "      <td>Regularly busy</td>\n",
       "      <td>Slowest days</td>\n",
       "      <td>Average orders</td>\n",
       "      <td>10</td>\n",
       "      <td>New customer</td>\n",
       "      <td>6.367188</td>\n",
       "      <td>Low spender</td>\n",
       "      <td>20.5</td>\n",
       "      <td>Non-frequent customer</td>\n",
       "    </tr>\n",
       "    <tr>\n",
       "      <th>2</th>\n",
       "      <td>473747</td>\n",
       "      <td>1</td>\n",
       "      <td>Female</td>\n",
       "      <td>31</td>\n",
       "      <td>Alabama</td>\n",
       "      <td>South</td>\n",
       "      <td>3</td>\n",
       "      <td>2/17/2019</td>\n",
       "      <td>3</td>\n",
       "      <td>married</td>\n",
       "      <td>...</td>\n",
       "      <td>Mid-range product</td>\n",
       "      <td>Regularly busy</td>\n",
       "      <td>Slowest days</td>\n",
       "      <td>Most orders</td>\n",
       "      <td>10</td>\n",
       "      <td>New customer</td>\n",
       "      <td>6.367188</td>\n",
       "      <td>Low spender</td>\n",
       "      <td>20.5</td>\n",
       "      <td>Non-frequent customer</td>\n",
       "    </tr>\n",
       "    <tr>\n",
       "      <th>3</th>\n",
       "      <td>2254736</td>\n",
       "      <td>1</td>\n",
       "      <td>Female</td>\n",
       "      <td>31</td>\n",
       "      <td>Alabama</td>\n",
       "      <td>South</td>\n",
       "      <td>4</td>\n",
       "      <td>2/17/2019</td>\n",
       "      <td>3</td>\n",
       "      <td>married</td>\n",
       "      <td>...</td>\n",
       "      <td>Mid-range product</td>\n",
       "      <td>Least busy</td>\n",
       "      <td>Slowest days</td>\n",
       "      <td>Average orders</td>\n",
       "      <td>10</td>\n",
       "      <td>New customer</td>\n",
       "      <td>6.367188</td>\n",
       "      <td>Low spender</td>\n",
       "      <td>20.5</td>\n",
       "      <td>Non-frequent customer</td>\n",
       "    </tr>\n",
       "    <tr>\n",
       "      <th>4</th>\n",
       "      <td>431534</td>\n",
       "      <td>1</td>\n",
       "      <td>Female</td>\n",
       "      <td>31</td>\n",
       "      <td>Alabama</td>\n",
       "      <td>South</td>\n",
       "      <td>5</td>\n",
       "      <td>2/17/2019</td>\n",
       "      <td>3</td>\n",
       "      <td>married</td>\n",
       "      <td>...</td>\n",
       "      <td>Mid-range product</td>\n",
       "      <td>Least busy</td>\n",
       "      <td>Slowest days</td>\n",
       "      <td>Most orders</td>\n",
       "      <td>10</td>\n",
       "      <td>New customer</td>\n",
       "      <td>6.367188</td>\n",
       "      <td>Low spender</td>\n",
       "      <td>20.5</td>\n",
       "      <td>Non-frequent customer</td>\n",
       "    </tr>\n",
       "  </tbody>\n",
       "</table>\n",
       "<p>5 rows × 32 columns</p>\n",
       "</div>"
      ],
      "text/plain": [
       "   order_id user_id  gender  age    state region  order_number date_joined  \\\n",
       "0   2539329       1  Female   31  Alabama  South             1   2/17/2019   \n",
       "1   2398795       1  Female   31  Alabama  South             2   2/17/2019   \n",
       "2    473747       1  Female   31  Alabama  South             3   2/17/2019   \n",
       "3   2254736       1  Female   31  Alabama  South             4   2/17/2019   \n",
       "4    431534       1  Female   31  Alabama  South             5   2/17/2019   \n",
       "\n",
       "   n_dependants fam_status  ...    price_range_loc     busiest_day  \\\n",
       "0             3    married  ...  Mid-range product  Regularly busy   \n",
       "1             3    married  ...  Mid-range product  Regularly busy   \n",
       "2             3    married  ...  Mid-range product  Regularly busy   \n",
       "3             3    married  ...  Mid-range product      Least busy   \n",
       "4             3    married  ...  Mid-range product      Least busy   \n",
       "\n",
       "   busiest_days  busiest_period_of_day  max_order  loyalty_flag  mean_price  \\\n",
       "0  Regular days         Average orders         10  New customer    6.367188   \n",
       "1  Slowest days         Average orders         10  New customer    6.367188   \n",
       "2  Slowest days            Most orders         10  New customer    6.367188   \n",
       "3  Slowest days         Average orders         10  New customer    6.367188   \n",
       "4  Slowest days            Most orders         10  New customer    6.367188   \n",
       "\n",
       "  spending_flag  median_on_days         frequency_flag  \n",
       "0   Low spender            20.5  Non-frequent customer  \n",
       "1   Low spender            20.5  Non-frequent customer  \n",
       "2   Low spender            20.5  Non-frequent customer  \n",
       "3   Low spender            20.5  Non-frequent customer  \n",
       "4   Low spender            20.5  Non-frequent customer  \n",
       "\n",
       "[5 rows x 32 columns]"
      ]
     },
     "execution_count": 23,
     "metadata": {},
     "output_type": "execute_result"
    }
   ],
   "source": [
    "#Checking reindexing output\n",
    "\n",
    "insta_data.head()"
   ]
  },
  {
   "cell_type": "code",
   "execution_count": 24,
   "id": "bb7c5953",
   "metadata": {},
   "outputs": [
    {
     "data": {
      "text/html": [
       "<div>\n",
       "<style scoped>\n",
       "    .dataframe tbody tr th:only-of-type {\n",
       "        vertical-align: middle;\n",
       "    }\n",
       "\n",
       "    .dataframe tbody tr th {\n",
       "        vertical-align: top;\n",
       "    }\n",
       "\n",
       "    .dataframe thead th {\n",
       "        text-align: right;\n",
       "    }\n",
       "</style>\n",
       "<table border=\"1\" class=\"dataframe\">\n",
       "  <thead>\n",
       "    <tr style=\"text-align: right;\">\n",
       "      <th></th>\n",
       "      <th>order_id</th>\n",
       "      <th>user_id</th>\n",
       "      <th>gender</th>\n",
       "      <th>age</th>\n",
       "      <th>state</th>\n",
       "      <th>region</th>\n",
       "      <th>order_number</th>\n",
       "      <th>date_joined</th>\n",
       "      <th>n_dependants</th>\n",
       "      <th>fam_status</th>\n",
       "      <th>...</th>\n",
       "      <th>price_range_loc</th>\n",
       "      <th>busiest_day</th>\n",
       "      <th>busiest_days</th>\n",
       "      <th>busiest_period_of_day</th>\n",
       "      <th>max_order</th>\n",
       "      <th>loyalty_flag</th>\n",
       "      <th>mean_price</th>\n",
       "      <th>spending_flag</th>\n",
       "      <th>median_on_days</th>\n",
       "      <th>frequency_flag</th>\n",
       "    </tr>\n",
       "  </thead>\n",
       "  <tbody>\n",
       "    <tr>\n",
       "      <th>32404854</th>\n",
       "      <td>156685</td>\n",
       "      <td>106143</td>\n",
       "      <td>Male</td>\n",
       "      <td>25</td>\n",
       "      <td>Hawaii</td>\n",
       "      <td>West</td>\n",
       "      <td>26</td>\n",
       "      <td>5/26/2017</td>\n",
       "      <td>0</td>\n",
       "      <td>single</td>\n",
       "      <td>...</td>\n",
       "      <td>Mid-range product</td>\n",
       "      <td>Least busy</td>\n",
       "      <td>Slowest days</td>\n",
       "      <td>Average orders</td>\n",
       "      <td>26</td>\n",
       "      <td>Regular customer</td>\n",
       "      <td>10.703125</td>\n",
       "      <td>High spender</td>\n",
       "      <td>7.0</td>\n",
       "      <td>Frequent customer</td>\n",
       "    </tr>\n",
       "    <tr>\n",
       "      <th>32404855</th>\n",
       "      <td>484769</td>\n",
       "      <td>66343</td>\n",
       "      <td>Female</td>\n",
       "      <td>22</td>\n",
       "      <td>Tennessee</td>\n",
       "      <td>South</td>\n",
       "      <td>1</td>\n",
       "      <td>9/12/2017</td>\n",
       "      <td>3</td>\n",
       "      <td>married</td>\n",
       "      <td>...</td>\n",
       "      <td>Mid-range product</td>\n",
       "      <td>Regularly busy</td>\n",
       "      <td>Regular days</td>\n",
       "      <td>Most orders</td>\n",
       "      <td>4</td>\n",
       "      <td>New customer</td>\n",
       "      <td>8.101562</td>\n",
       "      <td>Low spender</td>\n",
       "      <td>30.0</td>\n",
       "      <td>Non-frequent customer</td>\n",
       "    </tr>\n",
       "    <tr>\n",
       "      <th>32404856</th>\n",
       "      <td>1561557</td>\n",
       "      <td>66343</td>\n",
       "      <td>Female</td>\n",
       "      <td>22</td>\n",
       "      <td>Tennessee</td>\n",
       "      <td>South</td>\n",
       "      <td>2</td>\n",
       "      <td>9/12/2017</td>\n",
       "      <td>3</td>\n",
       "      <td>married</td>\n",
       "      <td>...</td>\n",
       "      <td>Mid-range product</td>\n",
       "      <td>Regularly busy</td>\n",
       "      <td>Busiest days</td>\n",
       "      <td>Most orders</td>\n",
       "      <td>4</td>\n",
       "      <td>New customer</td>\n",
       "      <td>8.101562</td>\n",
       "      <td>Low spender</td>\n",
       "      <td>30.0</td>\n",
       "      <td>Non-frequent customer</td>\n",
       "    </tr>\n",
       "    <tr>\n",
       "      <th>32404857</th>\n",
       "      <td>276317</td>\n",
       "      <td>66343</td>\n",
       "      <td>Female</td>\n",
       "      <td>22</td>\n",
       "      <td>Tennessee</td>\n",
       "      <td>South</td>\n",
       "      <td>3</td>\n",
       "      <td>9/12/2017</td>\n",
       "      <td>3</td>\n",
       "      <td>married</td>\n",
       "      <td>...</td>\n",
       "      <td>Mid-range product</td>\n",
       "      <td>Regularly busy</td>\n",
       "      <td>Regular days</td>\n",
       "      <td>Most orders</td>\n",
       "      <td>4</td>\n",
       "      <td>New customer</td>\n",
       "      <td>8.101562</td>\n",
       "      <td>Low spender</td>\n",
       "      <td>30.0</td>\n",
       "      <td>Non-frequent customer</td>\n",
       "    </tr>\n",
       "    <tr>\n",
       "      <th>32404858</th>\n",
       "      <td>2922475</td>\n",
       "      <td>66343</td>\n",
       "      <td>Female</td>\n",
       "      <td>22</td>\n",
       "      <td>Tennessee</td>\n",
       "      <td>South</td>\n",
       "      <td>4</td>\n",
       "      <td>9/12/2017</td>\n",
       "      <td>3</td>\n",
       "      <td>married</td>\n",
       "      <td>...</td>\n",
       "      <td>Mid-range product</td>\n",
       "      <td>Regularly busy</td>\n",
       "      <td>Busiest days</td>\n",
       "      <td>Most orders</td>\n",
       "      <td>4</td>\n",
       "      <td>New customer</td>\n",
       "      <td>8.101562</td>\n",
       "      <td>Low spender</td>\n",
       "      <td>30.0</td>\n",
       "      <td>Non-frequent customer</td>\n",
       "    </tr>\n",
       "  </tbody>\n",
       "</table>\n",
       "<p>5 rows × 32 columns</p>\n",
       "</div>"
      ],
      "text/plain": [
       "          order_id user_id  gender  age      state region  order_number  \\\n",
       "32404854    156685  106143    Male   25     Hawaii   West            26   \n",
       "32404855    484769   66343  Female   22  Tennessee  South             1   \n",
       "32404856   1561557   66343  Female   22  Tennessee  South             2   \n",
       "32404857    276317   66343  Female   22  Tennessee  South             3   \n",
       "32404858   2922475   66343  Female   22  Tennessee  South             4   \n",
       "\n",
       "         date_joined  n_dependants fam_status  ...    price_range_loc  \\\n",
       "32404854   5/26/2017             0     single  ...  Mid-range product   \n",
       "32404855   9/12/2017             3    married  ...  Mid-range product   \n",
       "32404856   9/12/2017             3    married  ...  Mid-range product   \n",
       "32404857   9/12/2017             3    married  ...  Mid-range product   \n",
       "32404858   9/12/2017             3    married  ...  Mid-range product   \n",
       "\n",
       "             busiest_day  busiest_days  busiest_period_of_day  max_order  \\\n",
       "32404854      Least busy  Slowest days         Average orders         26   \n",
       "32404855  Regularly busy  Regular days            Most orders          4   \n",
       "32404856  Regularly busy  Busiest days            Most orders          4   \n",
       "32404857  Regularly busy  Regular days            Most orders          4   \n",
       "32404858  Regularly busy  Busiest days            Most orders          4   \n",
       "\n",
       "              loyalty_flag  mean_price spending_flag  median_on_days  \\\n",
       "32404854  Regular customer   10.703125  High spender             7.0   \n",
       "32404855      New customer    8.101562   Low spender            30.0   \n",
       "32404856      New customer    8.101562   Low spender            30.0   \n",
       "32404857      New customer    8.101562   Low spender            30.0   \n",
       "32404858      New customer    8.101562   Low spender            30.0   \n",
       "\n",
       "                 frequency_flag  \n",
       "32404854      Frequent customer  \n",
       "32404855  Non-frequent customer  \n",
       "32404856  Non-frequent customer  \n",
       "32404857  Non-frequent customer  \n",
       "32404858  Non-frequent customer  \n",
       "\n",
       "[5 rows x 32 columns]"
      ]
     },
     "execution_count": 24,
     "metadata": {},
     "output_type": "execute_result"
    }
   ],
   "source": [
    "#Checking reindexing output\n",
    "\n",
    "insta_data.tail()"
   ]
  },
  {
   "cell_type": "code",
   "execution_count": 25,
   "id": "2fe94fa1",
   "metadata": {},
   "outputs": [],
   "source": [
    "#Checking spending habits across regions\n",
    "crosstab = pd.crosstab(insta_data['region'], insta_data['spending_flag'], dropna = False)"
   ]
  },
  {
   "cell_type": "code",
   "execution_count": 26,
   "id": "e194fb70",
   "metadata": {},
   "outputs": [
    {
     "data": {
      "text/html": [
       "<div>\n",
       "<style scoped>\n",
       "    .dataframe tbody tr th:only-of-type {\n",
       "        vertical-align: middle;\n",
       "    }\n",
       "\n",
       "    .dataframe tbody tr th {\n",
       "        vertical-align: top;\n",
       "    }\n",
       "\n",
       "    .dataframe thead th {\n",
       "        text-align: right;\n",
       "    }\n",
       "</style>\n",
       "<table border=\"1\" class=\"dataframe\">\n",
       "  <thead>\n",
       "    <tr style=\"text-align: right;\">\n",
       "      <th>spending_flag</th>\n",
       "      <th>High spender</th>\n",
       "      <th>Low spender</th>\n",
       "    </tr>\n",
       "    <tr>\n",
       "      <th>region</th>\n",
       "      <th></th>\n",
       "      <th></th>\n",
       "    </tr>\n",
       "  </thead>\n",
       "  <tbody>\n",
       "    <tr>\n",
       "      <th>Midwest</th>\n",
       "      <td>29265</td>\n",
       "      <td>7568060</td>\n",
       "    </tr>\n",
       "    <tr>\n",
       "      <th>Northeast</th>\n",
       "      <td>18642</td>\n",
       "      <td>5704094</td>\n",
       "    </tr>\n",
       "    <tr>\n",
       "      <th>South</th>\n",
       "      <td>40564</td>\n",
       "      <td>10751321</td>\n",
       "    </tr>\n",
       "    <tr>\n",
       "      <th>West</th>\n",
       "      <td>31223</td>\n",
       "      <td>8261690</td>\n",
       "    </tr>\n",
       "  </tbody>\n",
       "</table>\n",
       "</div>"
      ],
      "text/plain": [
       "spending_flag  High spender  Low spender\n",
       "region                                  \n",
       "Midwest               29265      7568060\n",
       "Northeast             18642      5704094\n",
       "South                 40564     10751321\n",
       "West                  31223      8261690"
      ]
     },
     "execution_count": 26,
     "metadata": {},
     "output_type": "execute_result"
    }
   ],
   "source": [
    "crosstab"
   ]
  },
  {
   "cell_type": "markdown",
   "id": "b652822b",
   "metadata": {},
   "source": [
    "### Observations: the south has the most spenders (high and low) across regions."
   ]
  },
  {
   "cell_type": "markdown",
   "id": "c0dad617",
   "metadata": {},
   "source": [
    "## 3.3 Creating an exclusion flag for low-activity customers (customers with less than 5 orders) and excluding them from the data"
   ]
  },
  {
   "cell_type": "code",
   "execution_count": 27,
   "id": "cbaf7c2a",
   "metadata": {},
   "outputs": [
    {
     "name": "stdout",
     "output_type": "stream",
     "text": [
      "<class 'pandas.core.frame.DataFrame'>\n",
      "Int64Index: 32404859 entries, 0 to 32404858\n",
      "Data columns (total 32 columns):\n",
      " #   Column                 Dtype   \n",
      "---  ------                 -----   \n",
      " 0   order_id               int32   \n",
      " 1   user_id                object  \n",
      " 2   gender                 object  \n",
      " 3   age                    int8    \n",
      " 4   state                  object  \n",
      " 5   region                 object  \n",
      " 6   order_number           int8    \n",
      " 7   date_joined            object  \n",
      " 8   n_dependants           int8    \n",
      " 9   fam_status             object  \n",
      " 10  income                 int32   \n",
      " 11  orders_day_of_week     int8    \n",
      " 12  order_hour_of_day      int8    \n",
      " 13  days_since_last_order  float16 \n",
      " 14  product_id             int32   \n",
      " 15  add_to_cart_order      int32   \n",
      " 16  reordered              int8    \n",
      " 17  product_name           object  \n",
      " 18  aisle_id               int8    \n",
      " 19  department_id          int8    \n",
      " 20  prices                 float16 \n",
      " 21  _merge                 category\n",
      " 22  price_range_loc        object  \n",
      " 23  busiest_day            object  \n",
      " 24  busiest_days           object  \n",
      " 25  busiest_period_of_day  object  \n",
      " 26  max_order              int8    \n",
      " 27  loyalty_flag           object  \n",
      " 28  mean_price             float16 \n",
      " 29  spending_flag          object  \n",
      " 30  median_on_days         float16 \n",
      " 31  frequency_flag         object  \n",
      "dtypes: category(1), float16(4), int32(4), int8(9), object(14)\n",
      "memory usage: 4.6+ GB\n"
     ]
    }
   ],
   "source": [
    "# Checking column names \n",
    "\n",
    "insta_data.info()"
   ]
  },
  {
   "cell_type": "code",
   "execution_count": 28,
   "id": "b6b47ec6",
   "metadata": {},
   "outputs": [],
   "source": [
    "# Creating exclusion flag for customers with less than 5 orders\n",
    "\n",
    "insta_data['exclusion_flag'] = insta_data['max_order'].apply(lambda x: 'Yes' if x < 5 else 'No')"
   ]
  },
  {
   "cell_type": "code",
   "execution_count": 29,
   "id": "ff98104e",
   "metadata": {},
   "outputs": [
    {
     "data": {
      "text/html": [
       "<div>\n",
       "<style scoped>\n",
       "    .dataframe tbody tr th:only-of-type {\n",
       "        vertical-align: middle;\n",
       "    }\n",
       "\n",
       "    .dataframe tbody tr th {\n",
       "        vertical-align: top;\n",
       "    }\n",
       "\n",
       "    .dataframe thead th {\n",
       "        text-align: right;\n",
       "    }\n",
       "</style>\n",
       "<table border=\"1\" class=\"dataframe\">\n",
       "  <thead>\n",
       "    <tr style=\"text-align: right;\">\n",
       "      <th></th>\n",
       "      <th>order_id</th>\n",
       "      <th>user_id</th>\n",
       "      <th>gender</th>\n",
       "      <th>age</th>\n",
       "      <th>state</th>\n",
       "      <th>region</th>\n",
       "      <th>order_number</th>\n",
       "      <th>date_joined</th>\n",
       "      <th>n_dependants</th>\n",
       "      <th>fam_status</th>\n",
       "      <th>...</th>\n",
       "      <th>busiest_day</th>\n",
       "      <th>busiest_days</th>\n",
       "      <th>busiest_period_of_day</th>\n",
       "      <th>max_order</th>\n",
       "      <th>loyalty_flag</th>\n",
       "      <th>mean_price</th>\n",
       "      <th>spending_flag</th>\n",
       "      <th>median_on_days</th>\n",
       "      <th>frequency_flag</th>\n",
       "      <th>exclusion_flag</th>\n",
       "    </tr>\n",
       "  </thead>\n",
       "  <tbody>\n",
       "    <tr>\n",
       "      <th>0</th>\n",
       "      <td>2539329</td>\n",
       "      <td>1</td>\n",
       "      <td>Female</td>\n",
       "      <td>31</td>\n",
       "      <td>Alabama</td>\n",
       "      <td>South</td>\n",
       "      <td>1</td>\n",
       "      <td>2/17/2019</td>\n",
       "      <td>3</td>\n",
       "      <td>married</td>\n",
       "      <td>...</td>\n",
       "      <td>Regularly busy</td>\n",
       "      <td>Regular days</td>\n",
       "      <td>Average orders</td>\n",
       "      <td>10</td>\n",
       "      <td>New customer</td>\n",
       "      <td>6.367188</td>\n",
       "      <td>Low spender</td>\n",
       "      <td>20.5</td>\n",
       "      <td>Non-frequent customer</td>\n",
       "      <td>No</td>\n",
       "    </tr>\n",
       "    <tr>\n",
       "      <th>1</th>\n",
       "      <td>2398795</td>\n",
       "      <td>1</td>\n",
       "      <td>Female</td>\n",
       "      <td>31</td>\n",
       "      <td>Alabama</td>\n",
       "      <td>South</td>\n",
       "      <td>2</td>\n",
       "      <td>2/17/2019</td>\n",
       "      <td>3</td>\n",
       "      <td>married</td>\n",
       "      <td>...</td>\n",
       "      <td>Regularly busy</td>\n",
       "      <td>Slowest days</td>\n",
       "      <td>Average orders</td>\n",
       "      <td>10</td>\n",
       "      <td>New customer</td>\n",
       "      <td>6.367188</td>\n",
       "      <td>Low spender</td>\n",
       "      <td>20.5</td>\n",
       "      <td>Non-frequent customer</td>\n",
       "      <td>No</td>\n",
       "    </tr>\n",
       "    <tr>\n",
       "      <th>2</th>\n",
       "      <td>473747</td>\n",
       "      <td>1</td>\n",
       "      <td>Female</td>\n",
       "      <td>31</td>\n",
       "      <td>Alabama</td>\n",
       "      <td>South</td>\n",
       "      <td>3</td>\n",
       "      <td>2/17/2019</td>\n",
       "      <td>3</td>\n",
       "      <td>married</td>\n",
       "      <td>...</td>\n",
       "      <td>Regularly busy</td>\n",
       "      <td>Slowest days</td>\n",
       "      <td>Most orders</td>\n",
       "      <td>10</td>\n",
       "      <td>New customer</td>\n",
       "      <td>6.367188</td>\n",
       "      <td>Low spender</td>\n",
       "      <td>20.5</td>\n",
       "      <td>Non-frequent customer</td>\n",
       "      <td>No</td>\n",
       "    </tr>\n",
       "    <tr>\n",
       "      <th>3</th>\n",
       "      <td>2254736</td>\n",
       "      <td>1</td>\n",
       "      <td>Female</td>\n",
       "      <td>31</td>\n",
       "      <td>Alabama</td>\n",
       "      <td>South</td>\n",
       "      <td>4</td>\n",
       "      <td>2/17/2019</td>\n",
       "      <td>3</td>\n",
       "      <td>married</td>\n",
       "      <td>...</td>\n",
       "      <td>Least busy</td>\n",
       "      <td>Slowest days</td>\n",
       "      <td>Average orders</td>\n",
       "      <td>10</td>\n",
       "      <td>New customer</td>\n",
       "      <td>6.367188</td>\n",
       "      <td>Low spender</td>\n",
       "      <td>20.5</td>\n",
       "      <td>Non-frequent customer</td>\n",
       "      <td>No</td>\n",
       "    </tr>\n",
       "    <tr>\n",
       "      <th>4</th>\n",
       "      <td>431534</td>\n",
       "      <td>1</td>\n",
       "      <td>Female</td>\n",
       "      <td>31</td>\n",
       "      <td>Alabama</td>\n",
       "      <td>South</td>\n",
       "      <td>5</td>\n",
       "      <td>2/17/2019</td>\n",
       "      <td>3</td>\n",
       "      <td>married</td>\n",
       "      <td>...</td>\n",
       "      <td>Least busy</td>\n",
       "      <td>Slowest days</td>\n",
       "      <td>Most orders</td>\n",
       "      <td>10</td>\n",
       "      <td>New customer</td>\n",
       "      <td>6.367188</td>\n",
       "      <td>Low spender</td>\n",
       "      <td>20.5</td>\n",
       "      <td>Non-frequent customer</td>\n",
       "      <td>No</td>\n",
       "    </tr>\n",
       "  </tbody>\n",
       "</table>\n",
       "<p>5 rows × 33 columns</p>\n",
       "</div>"
      ],
      "text/plain": [
       "   order_id user_id  gender  age    state region  order_number date_joined  \\\n",
       "0   2539329       1  Female   31  Alabama  South             1   2/17/2019   \n",
       "1   2398795       1  Female   31  Alabama  South             2   2/17/2019   \n",
       "2    473747       1  Female   31  Alabama  South             3   2/17/2019   \n",
       "3   2254736       1  Female   31  Alabama  South             4   2/17/2019   \n",
       "4    431534       1  Female   31  Alabama  South             5   2/17/2019   \n",
       "\n",
       "   n_dependants fam_status  ...     busiest_day  busiest_days  \\\n",
       "0             3    married  ...  Regularly busy  Regular days   \n",
       "1             3    married  ...  Regularly busy  Slowest days   \n",
       "2             3    married  ...  Regularly busy  Slowest days   \n",
       "3             3    married  ...      Least busy  Slowest days   \n",
       "4             3    married  ...      Least busy  Slowest days   \n",
       "\n",
       "   busiest_period_of_day  max_order  loyalty_flag  mean_price  spending_flag  \\\n",
       "0         Average orders         10  New customer    6.367188    Low spender   \n",
       "1         Average orders         10  New customer    6.367188    Low spender   \n",
       "2            Most orders         10  New customer    6.367188    Low spender   \n",
       "3         Average orders         10  New customer    6.367188    Low spender   \n",
       "4            Most orders         10  New customer    6.367188    Low spender   \n",
       "\n",
       "  median_on_days         frequency_flag  exclusion_flag  \n",
       "0           20.5  Non-frequent customer              No  \n",
       "1           20.5  Non-frequent customer              No  \n",
       "2           20.5  Non-frequent customer              No  \n",
       "3           20.5  Non-frequent customer              No  \n",
       "4           20.5  Non-frequent customer              No  \n",
       "\n",
       "[5 rows x 33 columns]"
      ]
     },
     "execution_count": 29,
     "metadata": {},
     "output_type": "execute_result"
    }
   ],
   "source": [
    "#Checking output of exclusion flag\n",
    "\n",
    "insta_data.head()"
   ]
  },
  {
   "cell_type": "code",
   "execution_count": 30,
   "id": "9278d73d",
   "metadata": {},
   "outputs": [],
   "source": [
    "#Creating subset excluding low activity customers\n",
    "low_activity_excluded = insta_data[insta_data['exclusion_flag']== 'No']"
   ]
  },
  {
   "cell_type": "code",
   "execution_count": 31,
   "id": "2830673a",
   "metadata": {},
   "outputs": [
    {
     "data": {
      "text/plain": [
       "No     30964564\n",
       "Yes     1440295\n",
       "Name: exclusion_flag, dtype: int64"
      ]
     },
     "execution_count": 31,
     "metadata": {},
     "output_type": "execute_result"
    }
   ],
   "source": [
    "#Checking the count for the exclusion flag\n",
    "insta_data['exclusion_flag'].value_counts(dropna = False)"
   ]
  },
  {
   "cell_type": "code",
   "execution_count": 32,
   "id": "f229d091",
   "metadata": {},
   "outputs": [
    {
     "data": {
      "text/plain": [
       "(30964564, 33)"
      ]
     },
     "execution_count": 32,
     "metadata": {},
     "output_type": "execute_result"
    }
   ],
   "source": [
    "#Confirming the number in the new subset\n",
    "\n",
    "low_activity_excluded.shape"
   ]
  },
  {
   "cell_type": "code",
   "execution_count": 33,
   "id": "fc96835b",
   "metadata": {},
   "outputs": [],
   "source": [
    "#Exporting new dataframe as pkl\n",
    "\n",
    "low_activity_excluded.to_pickle(os.path.join(path,'02 Data','Prepared Data','insta_data_excluded.pkl'))"
   ]
  },
  {
   "cell_type": "markdown",
   "id": "d89e05e2",
   "metadata": {},
   "source": [
    "## 3.4 Creating age flag"
   ]
  },
  {
   "cell_type": "code",
   "execution_count": 34,
   "id": "1282fff2",
   "metadata": {},
   "outputs": [],
   "source": [
    "insta_data.loc[insta_data['age']>65,'age_flag'] = 'Senior'"
   ]
  },
  {
   "cell_type": "code",
   "execution_count": 35,
   "id": "ef007d39",
   "metadata": {},
   "outputs": [],
   "source": [
    "insta_data.loc[(insta_data['age']<=65) & (insta_data['age']>40),'age_flag'] = 'Middle age'"
   ]
  },
  {
   "cell_type": "code",
   "execution_count": 36,
   "id": "a7af0ca6",
   "metadata": {},
   "outputs": [],
   "source": [
    "insta_data.loc[insta_data['age']<=40,'age_flag'] = 'Young adult'"
   ]
  },
  {
   "cell_type": "code",
   "execution_count": 37,
   "id": "52abd0c0",
   "metadata": {},
   "outputs": [
    {
     "data": {
      "text/plain": [
       "Middle age     12646712\n",
       "Young adult    11670046\n",
       "Senior          8088101\n",
       "Name: age_flag, dtype: int64"
      ]
     },
     "execution_count": 37,
     "metadata": {},
     "output_type": "execute_result"
    }
   ],
   "source": [
    "#Checking count\n",
    "\n",
    "insta_data ['age_flag'].value_counts (dropna=False)"
   ]
  },
  {
   "cell_type": "code",
   "execution_count": 38,
   "id": "3afdfd22",
   "metadata": {},
   "outputs": [
    {
     "data": {
      "image/png": "[encoded data removed]",
      "text/plain": [
       "<Figure size 640x480 with 1 Axes>"
      ]
     },
     "metadata": {},
     "output_type": "display_data"
    }
   ],
   "source": [
    "#Creating bar chart\n",
    "\n",
    "bar_age = insta_data['age_flag'].value_counts().plot.bar()"
   ]
  },
  {
   "cell_type": "code",
   "execution_count": 39,
   "id": "adcad706",
   "metadata": {},
   "outputs": [],
   "source": [
    "#Exporting bar chart\n",
    "bar_age.figure.savefig(os.path.join(path, '04 Analysis','Visualizations', 'bar_age.png'))"
   ]
  },
  {
   "cell_type": "markdown",
   "id": "b6edf008",
   "metadata": {},
   "source": [
    "## 3.5 Creating income flag"
   ]
  },
  {
   "cell_type": "code",
   "execution_count": 40,
   "id": "1faa8fc7",
   "metadata": {},
   "outputs": [],
   "source": [
    "max_income = insta_data ['income'].max()"
   ]
  },
  {
   "cell_type": "code",
   "execution_count": 41,
   "id": "483edf5c",
   "metadata": {},
   "outputs": [
    {
     "name": "stdout",
     "output_type": "stream",
     "text": [
      "Maximum income: 593901\n"
     ]
    }
   ],
   "source": [
    "print(\"Maximum income:\", max_income)"
   ]
  },
  {
   "cell_type": "code",
   "execution_count": 42,
   "id": "e79a05cd",
   "metadata": {},
   "outputs": [],
   "source": [
    "#Creating flag using loc function\n",
    "insta_data.loc[insta_data['income']>=150000,'income_flag'] = 'High income'"
   ]
  },
  {
   "cell_type": "code",
   "execution_count": 43,
   "id": "4d0700e8",
   "metadata": {},
   "outputs": [],
   "source": [
    "insta_data.loc[(insta_data['income']<150000) & (insta_data['income'] >=60000),'income_flag']= 'Medium income'\n"
   ]
  },
  {
   "cell_type": "code",
   "execution_count": 44,
   "id": "d01c810c",
   "metadata": {},
   "outputs": [],
   "source": [
    "insta_data.loc[insta_data['income']<=60000,'income_flag'] = 'Low income'"
   ]
  },
  {
   "cell_type": "code",
   "execution_count": 45,
   "id": "600ca1f5",
   "metadata": {},
   "outputs": [
    {
     "data": {
      "image/png": "[encoded data removed]",
      "text/plain": [
       "<Figure size 640x480 with 1 Axes>"
      ]
     },
     "metadata": {},
     "output_type": "display_data"
    }
   ],
   "source": [
    "bar_income = insta_data['income_flag'].value_counts().plot.bar()"
   ]
  },
  {
   "cell_type": "code",
   "execution_count": 46,
   "id": "3c9d56ed",
   "metadata": {},
   "outputs": [],
   "source": [
    "#Exporting bar chart\n",
    "bar_income.figure.savefig(os.path.join(path, '04 Analysis','Visualizations', 'bar_income.png'))"
   ]
  },
  {
   "cell_type": "markdown",
   "id": "dfe5af2b",
   "metadata": {},
   "source": [
    "## 3.6 Creating bar chart by department sales"
   ]
  },
  {
   "cell_type": "code",
   "execution_count": 47,
   "id": "60addc95",
   "metadata": {},
   "outputs": [
    {
     "data": {
      "text/plain": [
       "4     9479291\n",
       "16    5398747\n",
       "19    2887550\n",
       "7     2688123\n",
       "1     2234743\n",
       "13    1875369\n",
       "3     1172428\n",
       "15    1068058\n",
       "20    1051249\n",
       "9      866627\n",
       "17     738666\n",
       "12     708927\n",
       "14     703033\n",
       "11     447572\n",
       "18     423802\n",
       "6      269253\n",
       "5      153696\n",
       "8       97716\n",
       "21      69145\n",
       "2       36291\n",
       "10      34573\n",
       "Name: department_id, dtype: int64"
      ]
     },
     "execution_count": 47,
     "metadata": {},
     "output_type": "execute_result"
    }
   ],
   "source": [
    "#Department id counts\n",
    "insta_data['department_id'].value_counts(dropna = False)"
   ]
  },
  {
   "cell_type": "code",
   "execution_count": 48,
   "id": "7d4f9e9f",
   "metadata": {},
   "outputs": [
    {
     "data": {
      "image/png": "[encoded data removed]",
      "text/plain": [
       "<Figure size 640x480 with 1 Axes>"
      ]
     },
     "metadata": {},
     "output_type": "display_data"
    }
   ],
   "source": [
    "#Creating bar for department id\n",
    "\n",
    "bar_department =insta_data['department_id'].value_counts().plot.bar()"
   ]
  },
  {
   "cell_type": "code",
   "execution_count": 49,
   "id": "3fab86c6",
   "metadata": {},
   "outputs": [
    {
     "data": {
      "text/plain": [
       "Index(['order_id', 'user_id', 'gender', 'age', 'state', 'region',\n",
       "       'order_number', 'date_joined', 'n_dependants', 'fam_status', 'income',\n",
       "       'orders_day_of_week', 'order_hour_of_day', 'days_since_last_order',\n",
       "       'product_id', 'add_to_cart_order', 'reordered', 'product_name',\n",
       "       'aisle_id', 'department_id', 'prices', '_merge', 'price_range_loc',\n",
       "       'busiest_day', 'busiest_days', 'busiest_period_of_day', 'max_order',\n",
       "       'loyalty_flag', 'mean_price', 'spending_flag', 'median_on_days',\n",
       "       'frequency_flag', 'exclusion_flag', 'age_flag', 'income_flag'],\n",
       "      dtype='object')"
      ]
     },
     "execution_count": 49,
     "metadata": {},
     "output_type": "execute_result"
    }
   ],
   "source": [
    "#Checking columns\n",
    "insta_data.columns"
   ]
  },
  {
   "cell_type": "code",
   "execution_count": 50,
   "id": "a9a6c0e1",
   "metadata": {},
   "outputs": [],
   "source": [
    "#Importing departments data\n",
    "big_data_1= pd.read_csv (os.path.join(path,'02 Data','Prepared Data','departments_wrangled.csv'))"
   ]
  },
  {
   "cell_type": "code",
   "execution_count": 51,
   "id": "116954d3",
   "metadata": {},
   "outputs": [
    {
     "data": {
      "text/html": [
       "<div>\n",
       "<style scoped>\n",
       "    .dataframe tbody tr th:only-of-type {\n",
       "        vertical-align: middle;\n",
       "    }\n",
       "\n",
       "    .dataframe tbody tr th {\n",
       "        vertical-align: top;\n",
       "    }\n",
       "\n",
       "    .dataframe thead th {\n",
       "        text-align: right;\n",
       "    }\n",
       "</style>\n",
       "<table border=\"1\" class=\"dataframe\">\n",
       "  <thead>\n",
       "    <tr style=\"text-align: right;\">\n",
       "      <th></th>\n",
       "      <th>Unnamed: 0</th>\n",
       "      <th>department</th>\n",
       "    </tr>\n",
       "  </thead>\n",
       "  <tbody>\n",
       "    <tr>\n",
       "      <th>0</th>\n",
       "      <td>1</td>\n",
       "      <td>frozen</td>\n",
       "    </tr>\n",
       "    <tr>\n",
       "      <th>1</th>\n",
       "      <td>2</td>\n",
       "      <td>other</td>\n",
       "    </tr>\n",
       "    <tr>\n",
       "      <th>2</th>\n",
       "      <td>3</td>\n",
       "      <td>bakery</td>\n",
       "    </tr>\n",
       "    <tr>\n",
       "      <th>3</th>\n",
       "      <td>4</td>\n",
       "      <td>produce</td>\n",
       "    </tr>\n",
       "    <tr>\n",
       "      <th>4</th>\n",
       "      <td>5</td>\n",
       "      <td>alcohol</td>\n",
       "    </tr>\n",
       "    <tr>\n",
       "      <th>5</th>\n",
       "      <td>6</td>\n",
       "      <td>international</td>\n",
       "    </tr>\n",
       "    <tr>\n",
       "      <th>6</th>\n",
       "      <td>7</td>\n",
       "      <td>beverages</td>\n",
       "    </tr>\n",
       "    <tr>\n",
       "      <th>7</th>\n",
       "      <td>8</td>\n",
       "      <td>pets</td>\n",
       "    </tr>\n",
       "    <tr>\n",
       "      <th>8</th>\n",
       "      <td>9</td>\n",
       "      <td>dry goods pasta</td>\n",
       "    </tr>\n",
       "    <tr>\n",
       "      <th>9</th>\n",
       "      <td>10</td>\n",
       "      <td>bulk</td>\n",
       "    </tr>\n",
       "    <tr>\n",
       "      <th>10</th>\n",
       "      <td>11</td>\n",
       "      <td>personal care</td>\n",
       "    </tr>\n",
       "    <tr>\n",
       "      <th>11</th>\n",
       "      <td>12</td>\n",
       "      <td>meat seafood</td>\n",
       "    </tr>\n",
       "    <tr>\n",
       "      <th>12</th>\n",
       "      <td>13</td>\n",
       "      <td>pantry</td>\n",
       "    </tr>\n",
       "    <tr>\n",
       "      <th>13</th>\n",
       "      <td>14</td>\n",
       "      <td>breakfast</td>\n",
       "    </tr>\n",
       "    <tr>\n",
       "      <th>14</th>\n",
       "      <td>15</td>\n",
       "      <td>canned goods</td>\n",
       "    </tr>\n",
       "    <tr>\n",
       "      <th>15</th>\n",
       "      <td>16</td>\n",
       "      <td>dairy eggs</td>\n",
       "    </tr>\n",
       "    <tr>\n",
       "      <th>16</th>\n",
       "      <td>17</td>\n",
       "      <td>household</td>\n",
       "    </tr>\n",
       "    <tr>\n",
       "      <th>17</th>\n",
       "      <td>18</td>\n",
       "      <td>babies</td>\n",
       "    </tr>\n",
       "    <tr>\n",
       "      <th>18</th>\n",
       "      <td>19</td>\n",
       "      <td>snacks</td>\n",
       "    </tr>\n",
       "    <tr>\n",
       "      <th>19</th>\n",
       "      <td>20</td>\n",
       "      <td>deli</td>\n",
       "    </tr>\n",
       "    <tr>\n",
       "      <th>20</th>\n",
       "      <td>21</td>\n",
       "      <td>missing</td>\n",
       "    </tr>\n",
       "  </tbody>\n",
       "</table>\n",
       "</div>"
      ],
      "text/plain": [
       "    Unnamed: 0       department\n",
       "0            1           frozen\n",
       "1            2            other\n",
       "2            3           bakery\n",
       "3            4          produce\n",
       "4            5          alcohol\n",
       "5            6    international\n",
       "6            7        beverages\n",
       "7            8             pets\n",
       "8            9  dry goods pasta\n",
       "9           10             bulk\n",
       "10          11    personal care\n",
       "11          12     meat seafood\n",
       "12          13           pantry\n",
       "13          14        breakfast\n",
       "14          15     canned goods\n",
       "15          16       dairy eggs\n",
       "16          17        household\n",
       "17          18           babies\n",
       "18          19           snacks\n",
       "19          20             deli\n",
       "20          21          missing"
      ]
     },
     "execution_count": 51,
     "metadata": {},
     "output_type": "execute_result"
    }
   ],
   "source": [
    "#Checking output\n",
    "big_data_1.head(22)"
   ]
  },
  {
   "cell_type": "code",
   "execution_count": 52,
   "id": "37ecd31c",
   "metadata": {},
   "outputs": [],
   "source": [
    "#Creating list of department names\n",
    "department_names = {1: 'Frozen', 2: 'Other', 3: 'Bakery', 4: 'Produce',5: 'Alcohol', 6: 'International',7: 'Beverages', 8:'Pets',9:'Dry Goods Pasta',10: 'Bulk', 11: 'Personal Care', 12: 'Meat/Seafood', 13: 'Pantry', 14: 'Breakfast',15:'Canned Goods', 16: 'Dairy/Eggs', 17: 'Household', 18: ' Babies', 19:'Snacks',20:'Deli',21:'Missing'}"
   ]
  },
  {
   "cell_type": "code",
   "execution_count": 53,
   "id": "5d0411b0",
   "metadata": {},
   "outputs": [],
   "source": [
    "department_counts = insta_data ['department_id'].value_counts()"
   ]
  },
  {
   "cell_type": "code",
   "execution_count": 54,
   "id": "a565f8c3",
   "metadata": {},
   "outputs": [
    {
     "data": {
      "image/png": "[encoded data removed]",
      "text/plain": [
       "<Figure size 640x480 with 1 Axes>"
      ]
     },
     "metadata": {},
     "output_type": "display_data"
    }
   ],
   "source": [
    "#Creating bar chart \n",
    "a1 = department_counts.plot.bar()\n",
    "a1.set_xticklabels([department_names.get(x, '') for x in department_counts.index])\n",
    "for i, v in enumerate(department_counts):\n",
    "    a1.text(i, v, str(v), ha='center', va='bottom')\n",
    "    plt.show()"
   ]
  },
  {
   "cell_type": "code",
   "execution_count": 55,
   "id": "0b436835",
   "metadata": {},
   "outputs": [],
   "source": [
    "#Exporting bar chart \n",
    "a1.figure.savefig(os.path.join(path, '04 Analysis','Visualizations', 'bar_dept.png'))"
   ]
  },
  {
   "cell_type": "markdown",
   "id": "267642cb",
   "metadata": {},
   "source": [
    "## 3.7 Creating  bar chart by regions and departments"
   ]
  },
  {
   "cell_type": "code",
   "execution_count": 56,
   "id": "6ff434f8",
   "metadata": {},
   "outputs": [],
   "source": [
    "#Grouping department_id and region\n",
    "region_dept = insta_data.groupby(['department_id','region']).size().unstack(fill_value=0)"
   ]
  },
  {
   "cell_type": "code",
   "execution_count": 57,
   "id": "ac16b24a",
   "metadata": {},
   "outputs": [
    {
     "data": {
      "image/png": "[encoded data removed]",
      "text/plain": [
       "<Figure size 640x480 with 1 Axes>"
      ]
     },
     "metadata": {},
     "output_type": "display_data"
    }
   ],
   "source": [
    "#Creating bar\n",
    "region_dept_1 = region_dept.plot.bar(stacked=False)"
   ]
  },
  {
   "cell_type": "code",
   "execution_count": 58,
   "id": "17d584bb",
   "metadata": {},
   "outputs": [],
   "source": [
    "#Exporting bar chart \n",
    "region_dept_1.figure.savefig(os.path.join(path, '04 Analysis','Visualizations', 'bar_dept_region.png'))"
   ]
  },
  {
   "cell_type": "markdown",
   "id": "aa1c32db",
   "metadata": {},
   "source": [
    "## 3.8 Creating pie chart of loyal customers"
   ]
  },
  {
   "cell_type": "code",
   "execution_count": 59,
   "id": "05e19b52",
   "metadata": {},
   "outputs": [
    {
     "data": {
      "image/png": "[encoded data removed]",
      "text/plain": [
       "<Figure size 640x480 with 1 Axes>"
      ]
     },
     "metadata": {},
     "output_type": "display_data"
    }
   ],
   "source": [
    "loyalty_label = insta_data['loyalty_flag'].value_counts().sort_index().plot.pie()"
   ]
  },
  {
   "cell_type": "code",
   "execution_count": 60,
   "id": "97477fa1",
   "metadata": {},
   "outputs": [],
   "source": [
    "#Exporting pie chart \n",
    "loyalty_label.figure.savefig(os.path.join(path, '04 Analysis','Visualizations', 'loyal_customers.png'))"
   ]
  },
  {
   "cell_type": "code",
   "execution_count": 61,
   "id": "28df56ab",
   "metadata": {},
   "outputs": [],
   "source": [
    "#Grouping them by age\n",
    "\n",
    "age_loyalty = insta_data.groupby(['age_flag','loyalty_flag']).size().unstack(fill_value=0)"
   ]
  },
  {
   "cell_type": "code",
   "execution_count": 62,
   "id": "64ae03c8",
   "metadata": {},
   "outputs": [
    {
     "data": {
      "image/png": "[encoded data removed]",
      "text/plain": [
       "<Figure size 640x480 with 1 Axes>"
      ]
     },
     "metadata": {},
     "output_type": "display_data"
    }
   ],
   "source": [
    "#Bar chart for age and loyalty \n",
    "age_loyalty = age_loyalty.plot.bar(stacked=True )"
   ]
  },
  {
   "cell_type": "code",
   "execution_count": 63,
   "id": "8d151522",
   "metadata": {},
   "outputs": [],
   "source": [
    "#Exporting bar chart \n",
    "age_loyalty.figure.savefig(os.path.join(path, '04 Analysis','Visualizations', 'age_loyalty.png'))"
   ]
  },
  {
   "cell_type": "code",
   "execution_count": 64,
   "id": "290fad76",
   "metadata": {},
   "outputs": [],
   "source": [
    "#Grouping them by frequency \n",
    "\n",
    "loyal_frequency = insta_data.groupby(['loyalty_flag','frequency_flag']).size().unstack(fill_value=0)"
   ]
  },
  {
   "cell_type": "code",
   "execution_count": 65,
   "id": "3bbd1a29",
   "metadata": {},
   "outputs": [
    {
     "data": {
      "image/png": "[encoded data removed]",
      "text/plain": [
       "<Figure size 640x480 with 1 Axes>"
      ]
     },
     "metadata": {},
     "output_type": "display_data"
    }
   ],
   "source": [
    "#Bar chart for age and loyalty \n",
    "loyal_frequency = loyal_frequency.plot.bar(stacked=True )"
   ]
  },
  {
   "cell_type": "code",
   "execution_count": 66,
   "id": "5581b7da",
   "metadata": {},
   "outputs": [],
   "source": [
    "#Exporting bar chart \n",
    "loyal_frequency.figure.savefig(os.path.join(path, '04 Analysis','Visualizations', 'loyal_frequency.png'))"
   ]
  },
  {
   "cell_type": "markdown",
   "id": "aa6ffbfd",
   "metadata": {},
   "source": [
    "## 3.9 Visualizations of number of dependants"
   ]
  },
  {
   "cell_type": "code",
   "execution_count": 67,
   "id": "902ace8d",
   "metadata": {},
   "outputs": [],
   "source": [
    "#Confirming max number of dependants\n",
    "max_n_dependants = insta_data ['n_dependants'].max()"
   ]
  },
  {
   "cell_type": "code",
   "execution_count": 68,
   "id": "dbb61ba7",
   "metadata": {},
   "outputs": [
    {
     "name": "stdout",
     "output_type": "stream",
     "text": [
      "Maximum number dependants: 3\n"
     ]
    }
   ],
   "source": [
    "print(\"Maximum number dependants:\", max_n_dependants)"
   ]
  },
  {
   "cell_type": "code",
   "execution_count": 69,
   "id": "c1aaf637",
   "metadata": {},
   "outputs": [],
   "source": [
    "#Making a group\n",
    "dependants = [1,2,3]"
   ]
  },
  {
   "cell_type": "code",
   "execution_count": 70,
   "id": "6e67bffc",
   "metadata": {},
   "outputs": [],
   "source": [
    "#Making a group of no dependants\n",
    "no_dependants = [0]"
   ]
  },
  {
   "cell_type": "code",
   "execution_count": 71,
   "id": "5e9debf4",
   "metadata": {},
   "outputs": [],
   "source": [
    "#Dependants flag\n",
    "insta_data.loc[insta_data['n_dependants'].isin(dependants), 'dependants'] = 'has dependants'"
   ]
  },
  {
   "cell_type": "code",
   "execution_count": 72,
   "id": "04ee830f",
   "metadata": {},
   "outputs": [],
   "source": [
    "#No Dependants flag\n",
    "insta_data.loc[insta_data['n_dependants'].isin(no_dependants), 'dependants'] = 'no dependants'"
   ]
  },
  {
   "cell_type": "code",
   "execution_count": 73,
   "id": "8b27bb28",
   "metadata": {},
   "outputs": [
    {
     "data": {
      "text/plain": [
       "has dependants    24307356\n",
       "no dependants      8097503\n",
       "Name: dependants, dtype: int64"
      ]
     },
     "execution_count": 73,
     "metadata": {},
     "output_type": "execute_result"
    }
   ],
   "source": [
    "#Checking count\n",
    "insta_data['dependants'].value_counts(dropna = False)"
   ]
  },
  {
   "cell_type": "code",
   "execution_count": 74,
   "id": "233fd3bc",
   "metadata": {},
   "outputs": [
    {
     "data": {
      "text/html": [
       "<div>\n",
       "<style scoped>\n",
       "    .dataframe tbody tr th:only-of-type {\n",
       "        vertical-align: middle;\n",
       "    }\n",
       "\n",
       "    .dataframe tbody tr th {\n",
       "        vertical-align: top;\n",
       "    }\n",
       "\n",
       "    .dataframe thead th {\n",
       "        text-align: right;\n",
       "    }\n",
       "</style>\n",
       "<table border=\"1\" class=\"dataframe\">\n",
       "  <thead>\n",
       "    <tr style=\"text-align: right;\">\n",
       "      <th></th>\n",
       "      <th>order_id</th>\n",
       "      <th>user_id</th>\n",
       "      <th>gender</th>\n",
       "      <th>age</th>\n",
       "      <th>state</th>\n",
       "      <th>region</th>\n",
       "      <th>order_number</th>\n",
       "      <th>date_joined</th>\n",
       "      <th>n_dependants</th>\n",
       "      <th>fam_status</th>\n",
       "      <th>...</th>\n",
       "      <th>max_order</th>\n",
       "      <th>loyalty_flag</th>\n",
       "      <th>mean_price</th>\n",
       "      <th>spending_flag</th>\n",
       "      <th>median_on_days</th>\n",
       "      <th>frequency_flag</th>\n",
       "      <th>exclusion_flag</th>\n",
       "      <th>age_flag</th>\n",
       "      <th>income_flag</th>\n",
       "      <th>dependants</th>\n",
       "    </tr>\n",
       "  </thead>\n",
       "  <tbody>\n",
       "    <tr>\n",
       "      <th>0</th>\n",
       "      <td>2539329</td>\n",
       "      <td>1</td>\n",
       "      <td>Female</td>\n",
       "      <td>31</td>\n",
       "      <td>Alabama</td>\n",
       "      <td>South</td>\n",
       "      <td>1</td>\n",
       "      <td>2/17/2019</td>\n",
       "      <td>3</td>\n",
       "      <td>married</td>\n",
       "      <td>...</td>\n",
       "      <td>10</td>\n",
       "      <td>New customer</td>\n",
       "      <td>6.367188</td>\n",
       "      <td>Low spender</td>\n",
       "      <td>20.5</td>\n",
       "      <td>Non-frequent customer</td>\n",
       "      <td>No</td>\n",
       "      <td>Young adult</td>\n",
       "      <td>Low income</td>\n",
       "      <td>has dependants</td>\n",
       "    </tr>\n",
       "    <tr>\n",
       "      <th>1</th>\n",
       "      <td>2398795</td>\n",
       "      <td>1</td>\n",
       "      <td>Female</td>\n",
       "      <td>31</td>\n",
       "      <td>Alabama</td>\n",
       "      <td>South</td>\n",
       "      <td>2</td>\n",
       "      <td>2/17/2019</td>\n",
       "      <td>3</td>\n",
       "      <td>married</td>\n",
       "      <td>...</td>\n",
       "      <td>10</td>\n",
       "      <td>New customer</td>\n",
       "      <td>6.367188</td>\n",
       "      <td>Low spender</td>\n",
       "      <td>20.5</td>\n",
       "      <td>Non-frequent customer</td>\n",
       "      <td>No</td>\n",
       "      <td>Young adult</td>\n",
       "      <td>Low income</td>\n",
       "      <td>has dependants</td>\n",
       "    </tr>\n",
       "    <tr>\n",
       "      <th>2</th>\n",
       "      <td>473747</td>\n",
       "      <td>1</td>\n",
       "      <td>Female</td>\n",
       "      <td>31</td>\n",
       "      <td>Alabama</td>\n",
       "      <td>South</td>\n",
       "      <td>3</td>\n",
       "      <td>2/17/2019</td>\n",
       "      <td>3</td>\n",
       "      <td>married</td>\n",
       "      <td>...</td>\n",
       "      <td>10</td>\n",
       "      <td>New customer</td>\n",
       "      <td>6.367188</td>\n",
       "      <td>Low spender</td>\n",
       "      <td>20.5</td>\n",
       "      <td>Non-frequent customer</td>\n",
       "      <td>No</td>\n",
       "      <td>Young adult</td>\n",
       "      <td>Low income</td>\n",
       "      <td>has dependants</td>\n",
       "    </tr>\n",
       "    <tr>\n",
       "      <th>3</th>\n",
       "      <td>2254736</td>\n",
       "      <td>1</td>\n",
       "      <td>Female</td>\n",
       "      <td>31</td>\n",
       "      <td>Alabama</td>\n",
       "      <td>South</td>\n",
       "      <td>4</td>\n",
       "      <td>2/17/2019</td>\n",
       "      <td>3</td>\n",
       "      <td>married</td>\n",
       "      <td>...</td>\n",
       "      <td>10</td>\n",
       "      <td>New customer</td>\n",
       "      <td>6.367188</td>\n",
       "      <td>Low spender</td>\n",
       "      <td>20.5</td>\n",
       "      <td>Non-frequent customer</td>\n",
       "      <td>No</td>\n",
       "      <td>Young adult</td>\n",
       "      <td>Low income</td>\n",
       "      <td>has dependants</td>\n",
       "    </tr>\n",
       "    <tr>\n",
       "      <th>4</th>\n",
       "      <td>431534</td>\n",
       "      <td>1</td>\n",
       "      <td>Female</td>\n",
       "      <td>31</td>\n",
       "      <td>Alabama</td>\n",
       "      <td>South</td>\n",
       "      <td>5</td>\n",
       "      <td>2/17/2019</td>\n",
       "      <td>3</td>\n",
       "      <td>married</td>\n",
       "      <td>...</td>\n",
       "      <td>10</td>\n",
       "      <td>New customer</td>\n",
       "      <td>6.367188</td>\n",
       "      <td>Low spender</td>\n",
       "      <td>20.5</td>\n",
       "      <td>Non-frequent customer</td>\n",
       "      <td>No</td>\n",
       "      <td>Young adult</td>\n",
       "      <td>Low income</td>\n",
       "      <td>has dependants</td>\n",
       "    </tr>\n",
       "  </tbody>\n",
       "</table>\n",
       "<p>5 rows × 36 columns</p>\n",
       "</div>"
      ],
      "text/plain": [
       "   order_id user_id  gender  age    state region  order_number date_joined  \\\n",
       "0   2539329       1  Female   31  Alabama  South             1   2/17/2019   \n",
       "1   2398795       1  Female   31  Alabama  South             2   2/17/2019   \n",
       "2    473747       1  Female   31  Alabama  South             3   2/17/2019   \n",
       "3   2254736       1  Female   31  Alabama  South             4   2/17/2019   \n",
       "4    431534       1  Female   31  Alabama  South             5   2/17/2019   \n",
       "\n",
       "   n_dependants fam_status  ...  max_order  loyalty_flag  mean_price  \\\n",
       "0             3    married  ...         10  New customer    6.367188   \n",
       "1             3    married  ...         10  New customer    6.367188   \n",
       "2             3    married  ...         10  New customer    6.367188   \n",
       "3             3    married  ...         10  New customer    6.367188   \n",
       "4             3    married  ...         10  New customer    6.367188   \n",
       "\n",
       "   spending_flag  median_on_days         frequency_flag  exclusion_flag  \\\n",
       "0    Low spender            20.5  Non-frequent customer              No   \n",
       "1    Low spender            20.5  Non-frequent customer              No   \n",
       "2    Low spender            20.5  Non-frequent customer              No   \n",
       "3    Low spender            20.5  Non-frequent customer              No   \n",
       "4    Low spender            20.5  Non-frequent customer              No   \n",
       "\n",
       "      age_flag  income_flag      dependants  \n",
       "0  Young adult   Low income  has dependants  \n",
       "1  Young adult   Low income  has dependants  \n",
       "2  Young adult   Low income  has dependants  \n",
       "3  Young adult   Low income  has dependants  \n",
       "4  Young adult   Low income  has dependants  \n",
       "\n",
       "[5 rows x 36 columns]"
      ]
     },
     "execution_count": 74,
     "metadata": {},
     "output_type": "execute_result"
    }
   ],
   "source": [
    "insta_data.head()"
   ]
  },
  {
   "cell_type": "code",
   "execution_count": 75,
   "id": "6709509f",
   "metadata": {},
   "outputs": [
    {
     "data": {
      "image/png": "[encoded data removed]",
      "text/plain": [
       "<Figure size 640x480 with 1 Axes>"
      ]
     },
     "metadata": {},
     "output_type": "display_data"
    }
   ],
   "source": [
    "#Bar chart showing customers with dependants\n",
    "bar_dependants = insta_data['dependants'].value_counts().sort_index().plot.bar()"
   ]
  },
  {
   "cell_type": "code",
   "execution_count": 76,
   "id": "043a0b30",
   "metadata": {},
   "outputs": [],
   "source": [
    "#Exporting bar chart \n",
    "bar_dependants.figure.savefig(os.path.join(path, '04 Analysis','Visualizations', 'bar_dependants.png'))"
   ]
  },
  {
   "cell_type": "code",
   "execution_count": 77,
   "id": "12b6b581",
   "metadata": {},
   "outputs": [],
   "source": [
    "#Making a group of age and number of dependants\n",
    "age_dependants = insta_data.groupby(['age','n_dependants']).size().unstack(fill_value=0)"
   ]
  },
  {
   "cell_type": "code",
   "execution_count": 78,
   "id": "7e136e58",
   "metadata": {},
   "outputs": [
    {
     "data": {
      "image/png": "[encoded data removed]",
      "text/plain": [
       "<Figure size 640x480 with 1 Axes>"
      ]
     },
     "metadata": {},
     "output_type": "display_data"
    }
   ],
   "source": [
    "#Bar chart of age and n of dependants\n",
    "\n",
    "age_dependants = age_dependants.plot.bar (stacked = True)"
   ]
  },
  {
   "cell_type": "code",
   "execution_count": 79,
   "id": "bf128c71",
   "metadata": {},
   "outputs": [],
   "source": [
    "#Exporting bar chart \n",
    "age_dependants.figure.savefig(os.path.join(path, '04 Analysis','Visualizations', 'age_dependants.png'))"
   ]
  },
  {
   "cell_type": "markdown",
   "id": "34f35c77",
   "metadata": {},
   "source": [
    "## 3.10 Departments visualizations"
   ]
  },
  {
   "cell_type": "code",
   "execution_count": 80,
   "id": "88b78425",
   "metadata": {},
   "outputs": [],
   "source": [
    "#Stacked bar chart of dept and dependants\n",
    "dept_dependants_counts = insta_data.groupby(['department_id','dependants']).size().unstack(fill_value=0)"
   ]
  },
  {
   "cell_type": "code",
   "execution_count": 81,
   "id": "b35d5983",
   "metadata": {},
   "outputs": [
    {
     "data": {
      "image/png": "[encoded data removed]",
      "text/plain": [
       "<Figure size 640x480 with 1 Axes>"
      ]
     },
     "metadata": {},
     "output_type": "display_data"
    }
   ],
   "source": [
    "#Creating bar chart\n",
    "dept_dependants = dept_dependants_counts.plot.bar(stacked=True )"
   ]
  },
  {
   "cell_type": "code",
   "execution_count": 82,
   "id": "f0fe3d2f",
   "metadata": {},
   "outputs": [],
   "source": [
    "#Exporting bar chart \n",
    "dept_dependants.figure.savefig(os.path.join(path, '04 Analysis','Visualizations', 'dept_dependants.png'))"
   ]
  },
  {
   "cell_type": "code",
   "execution_count": 83,
   "id": "db90ffc3",
   "metadata": {},
   "outputs": [],
   "source": [
    "#Bar chart of dept and frecuency of customers\n",
    "dept_frequency_counts = insta_data.groupby(['department_id','frequency_flag']).size().unstack(fill_value=0)"
   ]
  },
  {
   "cell_type": "code",
   "execution_count": 84,
   "id": "d801c853",
   "metadata": {},
   "outputs": [
    {
     "data": {
      "image/png": "[encoded data removed]",
      "text/plain": [
       "<Figure size 640x480 with 1 Axes>"
      ]
     },
     "metadata": {},
     "output_type": "display_data"
    }
   ],
   "source": [
    "#Creating bar chart \n",
    "a2 = dept_frequency_counts.plot.bar()\n",
    "a2.set_xticklabels([department_names.get(str(x), '') for x in dept_frequency_counts.index])\n",
    "for i, v in enumerate(dept_frequency_counts):\n",
    "    a1.text(i, v, str(v), ha='center', va='bottom')\n",
    "plt.show()"
   ]
  },
  {
   "cell_type": "code",
   "execution_count": 85,
   "id": "61da6035",
   "metadata": {},
   "outputs": [],
   "source": [
    "#Exporting bar chart \n",
    "a2.figure.savefig(os.path.join(path, '04 Analysis','Visualizations', 'dept_frequency.png'))"
   ]
  },
  {
   "cell_type": "code",
   "execution_count": 86,
   "id": "1f07f3b3",
   "metadata": {},
   "outputs": [],
   "source": [
    "#Bar chart of dept and fam status\n",
    "dept_famst_counts = insta_data.groupby(['department_id','fam_status']).size().unstack(fill_value=0)"
   ]
  },
  {
   "cell_type": "code",
   "execution_count": 87,
   "id": "9611f641",
   "metadata": {},
   "outputs": [
    {
     "data": {
      "image/png": "[encoded data removed]",
      "text/plain": [
       "<Figure size 640x480 with 1 Axes>"
      ]
     },
     "metadata": {},
     "output_type": "display_data"
    }
   ],
   "source": [
    "#Creating bar chart\n",
    "dept_fam_status =dept_famst_counts.plot.bar(stacked=True )"
   ]
  },
  {
   "cell_type": "code",
   "execution_count": 88,
   "id": "ebb78f9a",
   "metadata": {},
   "outputs": [],
   "source": [
    "#Exporting bar chart \n",
    "dept_fam_status.figure.savefig(os.path.join(path, '04 Analysis','Visualizations', 'dept_fam_status.png'))"
   ]
  },
  {
   "cell_type": "code",
   "execution_count": 90,
   "id": "5fbda646",
   "metadata": {},
   "outputs": [],
   "source": [
    "#Exporting data frame\n",
    "\n",
    "insta_data_complete_2 = insta_data.to_pickle(os.path.join(path,'02 Data','Prepared Data','insta_data_complete_2.pkl'))"
   ]
  },
  {
   "cell_type": "code",
   "execution_count": null,
   "id": "94a084e9",
   "metadata": {},
   "outputs": [],
   "source": []
  }
 ],
 "metadata": {
  "kernelspec": {
   "display_name": "Python 3 (ipykernel)",
   "language": "python",
   "name": "python3"
  },
  "language_info": {
   "codemirror_mode": {
    "name": "ipython",
    "version": 3
   },
   "file_extension": ".py",
   "mimetype": "text/x-python",
   "name": "python",
   "nbconvert_exporter": "python",
   "pygments_lexer": "ipython3",
   "version": "3.10.11"
  }
 },
 "nbformat": 4,
 "nbformat_minor": 5
}
