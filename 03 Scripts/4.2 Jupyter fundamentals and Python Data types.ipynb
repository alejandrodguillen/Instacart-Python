{
 "cells": [
  {
   "cell_type": "markdown",
   "id": "0880175b",
   "metadata": {},
   "source": [
    "# Importation of Libraries\n"
   ]
  },
  {
   "cell_type": "code",
   "execution_count": 2,
   "id": "8693a088",
   "metadata": {},
   "outputs": [],
   "source": [
    "# Import Libraries\n",
    "import pandas as pd\n",
    "import numpy as np\n",
    "import os\n"
   ]
  },
  {
   "cell_type": "markdown",
   "id": "eb85205f",
   "metadata": {},
   "source": [
    "# Python Data Types"
   ]
  },
  {
   "cell_type": "code",
   "execution_count": 6,
   "id": "629939af",
   "metadata": {},
   "outputs": [],
   "source": [
    "# Reaching a result of 100 with integer numbers\n",
    "\n",
    "x = 10\n",
    "y = 50\n",
    "z = 50\n"
   ]
  },
  {
   "cell_type": "code",
   "execution_count": 7,
   "id": "b00c7d2a",
   "metadata": {},
   "outputs": [
    {
     "data": {
      "text/plain": [
       "100"
      ]
     },
     "execution_count": 7,
     "metadata": {},
     "output_type": "execute_result"
    }
   ],
   "source": [
    "y+z"
   ]
  },
  {
   "cell_type": "code",
   "execution_count": 10,
   "id": "fd2e8a0a",
   "metadata": {},
   "outputs": [
    {
     "data": {
      "text/plain": [
       "100"
      ]
     },
     "execution_count": 10,
     "metadata": {},
     "output_type": "execute_result"
    }
   ],
   "source": [
    "y*2"
   ]
  },
  {
   "cell_type": "code",
   "execution_count": 11,
   "id": "2e814bbf",
   "metadata": {},
   "outputs": [
    {
     "data": {
      "text/plain": [
       "100.0"
      ]
     },
     "execution_count": 11,
     "metadata": {},
     "output_type": "execute_result"
    }
   ],
   "source": [
    "1000/x"
   ]
  },
  {
   "cell_type": "code",
   "execution_count": 12,
   "id": "42150e6c",
   "metadata": {},
   "outputs": [],
   "source": [
    "# Floating-point variables\n",
    "\n",
    "x= 33.5\n",
    "y= 15.6"
   ]
  },
  {
   "cell_type": "code",
   "execution_count": 13,
   "id": "bcc262b9",
   "metadata": {},
   "outputs": [
    {
     "data": {
      "text/plain": [
       "2.1474358974358974"
      ]
     },
     "execution_count": 13,
     "metadata": {},
     "output_type": "execute_result"
    }
   ],
   "source": [
    "x/y"
   ]
  },
  {
   "cell_type": "code",
   "execution_count": 15,
   "id": "f70a0fea",
   "metadata": {},
   "outputs": [],
   "source": [
    "# A word with separate strings\n",
    "\n",
    "a = 'pine'\n",
    "b = 'apple'"
   ]
  },
  {
   "cell_type": "code",
   "execution_count": 16,
   "id": "ccfcae7c",
   "metadata": {},
   "outputs": [
    {
     "data": {
      "text/plain": [
       "'pineapple'"
      ]
     },
     "execution_count": 16,
     "metadata": {},
     "output_type": "execute_result"
    }
   ],
   "source": [
    "a + b"
   ]
  },
  {
   "cell_type": "code",
   "execution_count": 29,
   "id": "09f785d0",
   "metadata": {},
   "outputs": [],
   "source": [
    "# 2 Short sentences from separate strings\n",
    "\n",
    "a = 'Hello,' + ' How are you?'\n",
    "\n",
    "b = 'Hope everything is going well with you.'+' See you soon!'\n",
    "\n",
    "\n",
    "\n",
    "\n"
   ]
  },
  {
   "cell_type": "code",
   "execution_count": 30,
   "id": "cf9ae8a3",
   "metadata": {},
   "outputs": [
    {
     "name": "stdout",
     "output_type": "stream",
     "text": [
      "Hello, How are you?\n",
      "Hope everything is going well with you. See you soon!\n"
     ]
    }
   ],
   "source": [
    "print (a)\n",
    "\n",
    "print (b)"
   ]
  },
  {
   "cell_type": "code",
   "execution_count": 32,
   "id": "73d16498",
   "metadata": {},
   "outputs": [],
   "source": [
    "# a string 100 times\n",
    "\n",
    "z = 'pear'\n"
   ]
  },
  {
   "cell_type": "code",
   "execution_count": 33,
   "id": "9ea6af9b",
   "metadata": {},
   "outputs": [
    {
     "data": {
      "text/plain": [
       "'pearpearpearpearpearpearpearpearpearpearpearpearpearpearpearpearpearpearpearpearpearpearpearpearpearpearpearpearpearpearpearpearpearpearpearpearpearpearpearpearpearpearpearpearpearpearpearpearpearpearpearpearpearpearpearpearpearpearpearpearpearpearpearpearpearpearpearpearpearpearpearpearpearpearpearpearpearpearpearpearpearpearpearpearpearpearpearpearpearpearpearpearpearpearpearpearpearpearpearpear'"
      ]
     },
     "execution_count": 33,
     "metadata": {},
     "output_type": "execute_result"
    }
   ],
   "source": [
    "z*100"
   ]
  }
 ],
 "metadata": {
  "kernelspec": {
   "display_name": "Python 3 (ipykernel)",
   "language": "python",
   "name": "python3"
  },
  "language_info": {
   "codemirror_mode": {
    "name": "ipython",
    "version": 3
   },
   "file_extension": ".py",
   "mimetype": "text/x-python",
   "name": "python",
   "nbconvert_exporter": "python",
   "pygments_lexer": "ipython3",
   "version": "3.10.11"
  }
 },
 "nbformat": 4,
 "nbformat_minor": 5
}
